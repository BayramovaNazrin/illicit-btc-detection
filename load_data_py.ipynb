{
  "nbformat": 4,
  "nbformat_minor": 0,
  "metadata": {
    "colab": {
      "provenance": [],
      "authorship_tag": "ABX9TyO5M7Jws5usoFkCKKiSckJF",
      "include_colab_link": true
    },
    "kernelspec": {
      "name": "python3",
      "display_name": "Python 3"
    },
    "language_info": {
      "name": "python"
    }
  },
  "cells": [
    {
      "cell_type": "markdown",
      "metadata": {
        "id": "view-in-github",
        "colab_type": "text"
      },
      "source": [
        "<a href=\"https://colab.research.google.com/github/BayramovaNazrin/test1/blob/main/load_data_py.ipynb\" target=\"_parent\"><img src=\"https://colab.research.google.com/assets/colab-badge.svg\" alt=\"Open In Colab\"/></a>"
      ]
    },
    {
      "cell_type": "code",
      "source": [
        "def load_data():\n",
        "\n",
        "    import pandas as pd\n",
        "    import matplotlib.pyplot as plt\n",
        "    import seaborn as sns\n",
        "    import numpy as np\n",
        "    %matplotlib inline\n",
        "\n",
        "    features = '/content/drive/MyDrive/anomaly_detection/elliptic_txs_features.csv'\n",
        "    edges = '/content/drive/MyDrive/anomaly_detection/elliptic_txs_edgelist.csv'\n",
        "    classes = '/content/drive/MyDrive/anomaly_detection/elliptic_txs_classes.csv'\n",
        "    features = pd.read_csv(features, header=None)\n",
        "    edges = pd.read_csv(edges)\n",
        "    classes = pd.read_csv(classes, header=None)\n",
        "    num_cols = features.shape[1]\n",
        "    feature_cols = ['txId', 'time_step'] + [f'feature_{i}' for i in range(1, num_cols - 1)]\n",
        "    features.columns = feature_cols\n",
        "    classes.columns = ['txId', 'class']\n",
        "    classes['class'] = classes['class'].astype(str).str.strip().replace({  'unknown': 3})\n",
        "\n",
        "    features['txId'] = features['txId'].astype(str)\n",
        "    classes['txId'] = classes['txId'].astype(str)\n",
        "\n",
        "\n",
        "    merged_df = features.merge(classes, on='txId', how='left')\n",
        "    merged_df['class'] = pd.to_numeric(merged_df['class'], errors='coerce')\n",
        "    return features, edges, merged_df\n"
      ],
      "metadata": {
        "id": "bgiQXXqVLNPi"
      },
      "execution_count": null,
      "outputs": []
    }
  ]
}