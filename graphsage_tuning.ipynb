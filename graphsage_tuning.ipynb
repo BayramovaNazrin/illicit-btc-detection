{
  "nbformat": 4,
  "nbformat_minor": 0,
  "metadata": {
    "colab": {
      "provenance": [],
      "gpuType": "T4",
      "include_colab_link": true
    },
    "kernelspec": {
      "name": "python3",
      "display_name": "Python 3"
    },
    "language_info": {
      "name": "python"
    },
    "accelerator": "GPU"
  },
  "cells": [
    {
      "cell_type": "markdown",
      "metadata": {
        "id": "view-in-github",
        "colab_type": "text"
      },
      "source": [
        "<a href=\"https://colab.research.google.com/github/BayramovaNazrin/test1/blob/main/graphsage_tuning.ipynb\" target=\"_parent\"><img src=\"https://colab.research.google.com/assets/colab-badge.svg\" alt=\"Open In Colab\"/></a>"
      ]
    },
    {
      "cell_type": "code",
      "execution_count": null,
      "metadata": {
        "id": "DHxXobN1If3D"
      },
      "outputs": [],
      "source": []
    },
    {
      "cell_type": "markdown",
      "source": [
        "# **Setup & Clone**"
      ],
      "metadata": {
        "id": "kO8zPJawrgeh"
      }
    },
    {
      "cell_type": "code",
      "source": [
        "%cd /content\n",
        "!rm -rf test1\n",
        "!git clone https://github.com/BayramovaNazrin/test1.git\n",
        "%cd /content/test1"
      ],
      "metadata": {
        "colab": {
          "base_uri": "https://localhost:8080/"
        },
        "id": "txvHLKp3rk-x",
        "outputId": "e30aa03f-c1ae-4474-ec49-5dc0e120528c"
      },
      "execution_count": 3,
      "outputs": [
        {
          "output_type": "stream",
          "name": "stdout",
          "text": [
            "/content\n",
            "Cloning into 'test1'...\n",
            "remote: Enumerating objects: 173, done.\u001b[K\n",
            "remote: Counting objects: 100% (173/173), done.\u001b[K\n",
            "remote: Compressing objects: 100% (150/150), done.\u001b[K\n",
            "remote: Total 173 (delta 70), reused 54 (delta 16), pack-reused 0 (from 0)\u001b[K\n",
            "Receiving objects: 100% (173/173), 5.48 MiB | 22.28 MiB/s, done.\n",
            "Resolving deltas: 100% (70/70), done.\n",
            "/content/test1\n"
          ]
        }
      ]
    },
    {
      "cell_type": "code",
      "source": [
        "import sys, os, warnings, copy, time, itertools, random\n",
        "import numpy as np\n",
        "import pandas as pd\n",
        "import torch\n",
        "import torch.nn.functional as F\n",
        "\n",
        "from sklearn.model_selection import train_test_split\n",
        "from sklearn.metrics import (\n",
        "    accuracy_score, precision_score, recall_score, f1_score,\n",
        "    roc_auc_score, average_precision_score, precision_recall_curve\n",
        ")\n",
        "\n",
        "warnings.filterwarnings(\"ignore\")\n",
        "torch.manual_seed(42); np.random.seed(42); random.seed(42)\n",
        "device = torch.device(\"cuda\" if torch.cuda.is_available() else \"cpu\")\n",
        "print(\"Device:\", device)"
      ],
      "metadata": {
        "colab": {
          "base_uri": "https://localhost:8080/"
        },
        "id": "EBG2yAglroZZ",
        "outputId": "bf6a8d5e-4108-4261-c43f-63f26a844b8f"
      },
      "execution_count": 4,
      "outputs": [
        {
          "output_type": "stream",
          "name": "stdout",
          "text": [
            "Device: cuda\n"
          ]
        }
      ]
    },
    {
      "cell_type": "code",
      "source": [
        "try:\n",
        "    import torch_geometric\n",
        "    from torch_geometric.data import Data\n",
        "    from torch_geometric.nn import SAGEConv\n",
        "except Exception:\n",
        "    import torch\n",
        "    %pip -q install torch-scatter torch-sparse torch-cluster torch-spline-conv torch-geometric -f https://data.pyg.org/whl/torch-{torch.__version__}.html\n",
        "    from torch_geometric.data import Data\n",
        "    from torch_geometric.nn import SAGEConv"
      ],
      "metadata": {
        "id": "Le3acbowrqW5",
        "colab": {
          "base_uri": "https://localhost:8080/"
        },
        "outputId": "0676a509-3e2f-483b-82fb-947f1c16b280"
      },
      "execution_count": 5,
      "outputs": [
        {
          "output_type": "stream",
          "name": "stdout",
          "text": [
            "\u001b[2K     \u001b[90m━━━━━━━━━━━━━━━━━━━━━━━━━━━━━━━━━━━━━━━\u001b[0m \u001b[32m10.9/10.9 MB\u001b[0m \u001b[31m120.8 MB/s\u001b[0m eta \u001b[36m0:00:00\u001b[0m\n",
            "\u001b[2K     \u001b[90m━━━━━━━━━━━━━━━━━━━━━━━━━━━━━━━━━━━━━━━━\u001b[0m \u001b[32m5.2/5.2 MB\u001b[0m \u001b[31m85.5 MB/s\u001b[0m eta \u001b[36m0:00:00\u001b[0m\n",
            "\u001b[2K     \u001b[90m━━━━━━━━━━━━━━━━━━━━━━━━━━━━━━━━━━━━━━━━\u001b[0m \u001b[32m3.3/3.3 MB\u001b[0m \u001b[31m118.0 MB/s\u001b[0m eta \u001b[36m0:00:00\u001b[0m\n",
            "\u001b[2K     \u001b[90m━━━━━━━━━━━━━━━━━━━━━━━━━━━━━━━━━━━━━━━━\u001b[0m \u001b[32m1.1/1.1 MB\u001b[0m \u001b[31m72.9 MB/s\u001b[0m eta \u001b[36m0:00:00\u001b[0m\n",
            "\u001b[2K     \u001b[90m━━━━━━━━━━━━━━━━━━━━━━━━━━━━━━━━━━━━━━━━\u001b[0m \u001b[32m63.7/63.7 kB\u001b[0m \u001b[31m3.1 MB/s\u001b[0m eta \u001b[36m0:00:00\u001b[0m\n",
            "\u001b[2K   \u001b[90m━━━━━━━━━━━━━━━━━━━━━━━━━━━━━━━━━━━━━━━━\u001b[0m \u001b[32m1.3/1.3 MB\u001b[0m \u001b[31m33.6 MB/s\u001b[0m eta \u001b[36m0:00:00\u001b[0m\n",
            "\u001b[?25h"
          ]
        }
      ]
    },
    {
      "cell_type": "markdown",
      "source": [
        "# **Load Data**"
      ],
      "metadata": {
        "id": "naeXV7r7rtWC"
      }
    },
    {
      "cell_type": "code",
      "source": [
        "from load_data import load_data\n",
        "features_df, edges_df, classes_df, merged_df = load_data()\n",
        "\n",
        "for need, df in [({\"txId\"}, features_df),\n",
        "                 ({\"txId1\",\"txId2\"}, edges_df),\n",
        "                 ({\"txId\",\"class\"}, classes_df)]:\n",
        "    miss = need - set(df.columns)\n",
        "    if miss:\n",
        "        raise RuntimeError(f\"Missing columns {miss} in dataframe\")"
      ],
      "metadata": {
        "id": "FYeENe5vrzSB"
      },
      "execution_count": 6,
      "outputs": []
    },
    {
      "cell_type": "code",
      "source": [
        "from google.colab import drive\n",
        "drive.mount('/content/drive')"
      ],
      "metadata": {
        "colab": {
          "base_uri": "https://localhost:8080/"
        },
        "id": "GOhwrrZdJca7",
        "outputId": "b4da470a-a55d-48c8-ee15-dea2d5d32e6a"
      },
      "execution_count": 1,
      "outputs": [
        {
          "output_type": "stream",
          "name": "stdout",
          "text": [
            "Mounted at /content/drive\n"
          ]
        }
      ]
    },
    {
      "cell_type": "markdown",
      "source": [
        "# **Build Graph Data (x, y, edge_index) + Train/Val/Test Masks**"
      ],
      "metadata": {
        "id": "Rdk_8yeer6qp"
      }
    },
    {
      "cell_type": "code",
      "source": [
        "# Node ids & mapping\n",
        "node_ids = features_df[\"txId\"].to_numpy()\n",
        "if len(node_ids) != len(np.unique(node_ids)):\n",
        "    raise RuntimeError(\"Duplicate txId values in features_df\")\n",
        "\n",
        "node_id_map = {tx: i for i, tx in enumerate(node_ids)}\n",
        "\n",
        "# Feature matrix X from model_cols (drop id/time)\n",
        "drop_cols = [c for c in [\"txId\", \"Time step\"] if c in features_df.columns]\n",
        "model_cols = [c for c in features_df.columns if c not in drop_cols]\n",
        "\n",
        "X = (features_df[model_cols]\n",
        "     .apply(pd.to_numeric, errors=\"coerce\")\n",
        "     .fillna(0.0)\n",
        "     .to_numpy(dtype=np.float32))\n",
        "x = torch.from_numpy(X)\n",
        "\n",
        "# Labels: map {1->1 illicit, 2->0 licit}, unknown -> -1\n",
        "cls = classes_df[classes_df[\"class\"].isin([1,2])][[\"txId\",\"class\"]].copy()\n",
        "y_arr = np.full(len(node_ids), -1, dtype=np.int64)\n",
        "for tx, c in zip(cls[\"txId\"].to_numpy(), cls[\"class\"].to_numpy()):\n",
        "    idx = node_id_map.get(tx)\n",
        "    if idx is not None:\n",
        "        y_arr[idx] = 1 if c == 1 else 0\n",
        "y = torch.from_numpy(y_arr)\n",
        "\n",
        "# Edges -> edge_index [2, E]\n",
        "e = edges_df[[\"txId1\",\"txId2\"]].dropna()\n",
        "e = e[e[\"txId1\"].isin(node_id_map) & e[\"txId2\"].isin(node_id_map)]\n",
        "edge_index = torch.tensor([[node_id_map[s], node_id_map[t]] for s,t in zip(e[\"txId1\"], e[\"txId2\"])],\n",
        "                          dtype=torch.long).t().contiguous()\n",
        "\n",
        "# Masks: time-based split if Time step exists; carve val from train; else stratified\n",
        "if \"Time step\" in features_df.columns:\n",
        "    steps = features_df[\"Time step\"].to_numpy()\n",
        "    labeled_mask = (y_arr >= 0)\n",
        "\n",
        "    train_total = (steps <= 34) & labeled_mask\n",
        "    test_mask_np = (steps > 34) & labeled_mask\n",
        "\n",
        "    tr_idx = np.where(train_total)[0]\n",
        "    tr_lab = y_arr[tr_idx]\n",
        "    tr_in, val_in = train_test_split(tr_idx, test_size=0.2, random_state=42, stratify=tr_lab)\n",
        "\n",
        "    train_mask = torch.zeros(len(node_ids), dtype=torch.bool); train_mask[tr_in] = True\n",
        "    val_mask   = torch.zeros(len(node_ids), dtype=torch.bool); val_mask[val_in] = True\n",
        "    test_mask  = torch.from_numpy(test_mask_np.astype(bool))\n",
        "else:\n",
        "    labeled_idx = np.where(y_arr >= 0)[0]\n",
        "    tr, te = train_test_split(labeled_idx, test_size=0.3, random_state=42, stratify=y_arr[labeled_idx])\n",
        "    tr, va = train_test_split(tr, test_size=0.2, random_state=42, stratify=y_arr[tr])\n",
        "\n",
        "    train_mask = torch.zeros(len(node_ids), dtype=torch.bool); train_mask[tr] = True\n",
        "    val_mask   = torch.zeros(len(node_ids), dtype=torch.bool); val_mask[va] = True\n",
        "    test_mask  = torch.zeros(len(node_ids), dtype=torch.bool); test_mask[te] = True\n",
        "\n",
        "graph_data = Data(x=x, edge_index=edge_index, y=y,\n",
        "                  train_mask=train_mask, test_mask=test_mask)\n",
        "graph_data.val_mask = val_mask\n",
        "graph_data = graph_data.to(device)\n",
        "\n",
        "print(graph_data)\n",
        "print(\"features used:\", len(model_cols))\n",
        "print(\"labeled:\", int((y>=0).sum()),\n",
        "      \"| train:\", int(train_mask.sum()),\n",
        "      \"val:\", int(val_mask.sum()),\n",
        "      \"test:\", int(test_mask.sum()))\n"
      ],
      "metadata": {
        "id": "4K1ghR8rr-Dg",
        "colab": {
          "base_uri": "https://localhost:8080/"
        },
        "outputId": "70b55ceb-97d1-46b4-c5e6-516428653ff1"
      },
      "execution_count": 8,
      "outputs": [
        {
          "output_type": "stream",
          "name": "stdout",
          "text": [
            "Data(x=[203769, 166], edge_index=[2, 234355], y=[203769], train_mask=[203769], test_mask=[203769], val_mask=[203769])\n",
            "features used: 166\n",
            "labeled: 46564 | train: 26075 val: 6519 test: 13970\n"
          ]
        }
      ]
    },
    {
      "cell_type": "markdown",
      "source": [
        "# **Model Definitions & Train/Test Helpers**"
      ],
      "metadata": {
        "id": "OmCIb_A4sZKg"
      }
    },
    {
      "cell_type": "code",
      "source": [
        "from torch_geometric.nn import SAGEConv\n",
        "\n",
        "class GraphSAGE2(torch.nn.Module):\n",
        "    def __init__(self, in_channels, hidden_channels, out_channels, dropout=0.5):\n",
        "        super().__init__()\n",
        "        self.conv1 = SAGEConv(in_channels, hidden_channels)\n",
        "        self.conv2 = SAGEConv(hidden_channels, out_channels)\n",
        "        self.dropout = dropout\n",
        "\n",
        "    def forward(self, x, edge_index):\n",
        "        x = self.conv1(x, edge_index); x = F.relu(x)\n",
        "        x = F.dropout(x, p=self.dropout, training=self.training)\n",
        "        x = self.conv2(x, edge_index)\n",
        "        return x\n",
        "\n",
        "class FlexibleGraphSAGE(torch.nn.Module):\n",
        "    def __init__(self, in_channels, hidden_channels, out_channels, num_layers=2, dropout=0.5):\n",
        "        super().__init__()\n",
        "        assert num_layers >= 2\n",
        "        self.convs = torch.nn.ModuleList([SAGEConv(in_channels, hidden_channels)])\n",
        "        for _ in range(num_layers - 2):\n",
        "            self.convs.append(SAGEConv(hidden_channels, hidden_channels))\n",
        "        self.convs.append(SAGEConv(hidden_channels, out_channels))\n",
        "        self.dropout = dropout\n",
        "\n",
        "    def forward(self, x, edge_index):\n",
        "        for conv in self.convs[:-1]:\n",
        "            x = F.relu(conv(x, edge_index))\n",
        "            x = F.dropout(x, p=self.dropout, training=self.training)\n",
        "        return self.convs[-1](x, edge_index)\n",
        "\n",
        "def train_step(model, data, optimizer, criterion):\n",
        "    model.train()\n",
        "    optimizer.zero_grad()\n",
        "    out = model(data.x, data.edge_index)\n",
        "    loss = criterion(out[data.train_mask], data.y[data.train_mask])\n",
        "    loss.backward(); optimizer.step()\n",
        "    return loss.item()\n",
        "\n",
        "@torch.no_grad()\n",
        "def eval_on_mask(model, data, mask):\n",
        "    model.eval()\n",
        "    out = model(data.x, data.edge_index)\n",
        "    probs = F.softmax(out, dim=1)[:,1].detach().cpu().numpy()\n",
        "    labels = data.y.detach().cpu().numpy()\n",
        "    m = mask.detach().cpu().numpy()\n",
        "    preds = (probs[m] >= 0.5).astype(int)\n",
        "    return {\n",
        "        \"accuracy\": accuracy_score(labels[m], preds),\n",
        "        \"precision\": precision_score(labels[m], preds, zero_division=0),\n",
        "        \"recall\": recall_score(labels[m], preds, zero_division=0),\n",
        "        \"f1\": f1_score(labels[m], preds, zero_division=0),\n",
        "        \"roc_auc\": roc_auc_score(labels[m], probs[m]),\n",
        "        \"pr_auc\": average_precision_score(labels[m], probs[m]),\n",
        "    }\n",
        "\n",
        "def evaluate_masks(model, data):\n",
        "    return {\"val\":  eval_on_mask(model, data, data.val_mask),\n",
        "            \"test\": eval_on_mask(model, data, data.test_mask)}\n"
      ],
      "metadata": {
        "id": "7X66yz3kscMA"
      },
      "execution_count": 9,
      "outputs": []
    },
    {
      "cell_type": "markdown",
      "source": [
        "# **Robust Class Weights (Train Only)**"
      ],
      "metadata": {
        "id": "UtyhgAo2sekJ"
      }
    },
    {
      "cell_type": "code",
      "source": [
        "train_labels = graph_data.y[graph_data.train_mask]\n",
        "num_pos = int((train_labels == 1).sum().item())\n",
        "num_neg = int((train_labels == 0).sum().item())\n",
        "if num_pos == 0:\n",
        "    class_weights = torch.tensor([1.0, 1.0], dtype=torch.float, device=device)\n",
        "else:\n",
        "    pos_weight = num_neg / num_pos\n",
        "    class_weights = torch.tensor([1.0, pos_weight], dtype=torch.float, device=device)\n",
        "\n",
        "print(\"Train counts -> licit(0):\", num_neg, \" illicit(1):\", num_pos, \"| pos_weight:\", float(class_weights[1]))\n"
      ],
      "metadata": {
        "id": "9Eulnu-MshzA",
        "colab": {
          "base_uri": "https://localhost:8080/"
        },
        "outputId": "29a764c0-b015-4788-b310-1f84c26aafae"
      },
      "execution_count": 10,
      "outputs": [
        {
          "output_type": "stream",
          "name": "stdout",
          "text": [
            "Train counts -> licit(0): 23530  illicit(1): 2545 | pos_weight: 9.245579719543457\n"
          ]
        }
      ]
    },
    {
      "cell_type": "markdown",
      "source": [
        "# **Baseline Training + Validation Monitoring**"
      ],
      "metadata": {
        "id": "mbvBbtvoslIh"
      }
    },
    {
      "cell_type": "code",
      "source": [
        "base_model = GraphSAGE2(\n",
        "    in_channels=graph_data.num_node_features,\n",
        "    hidden_channels=128,\n",
        "    out_channels=2,\n",
        "    dropout=0.5\n",
        ").to(device)\n",
        "\n",
        "optimizer = torch.optim.Adam(base_model.parameters(), lr=0.005, weight_decay=5e-4)\n",
        "criterion = torch.nn.CrossEntropyLoss(weight=class_weights)\n",
        "\n",
        "best_state = None\n",
        "best_val_prauc = -1.0\n",
        "patience, patience_ctr = 20, 0\n",
        "max_epochs = 150\n",
        "\n",
        "for ep in range(1, max_epochs+1):\n",
        "    loss = train_step(base_model, graph_data, optimizer, criterion)\n",
        "    if ep % 5 == 0:\n",
        "        m = evaluate_masks(base_model, graph_data)\n",
        "        val_prauc = m[\"val\"][\"pr_auc\"]\n",
        "        if val_prauc > best_val_prauc:\n",
        "            best_val_prauc = val_prauc\n",
        "            best_state = copy.deepcopy(base_model.state_dict())\n",
        "            patience_ctr = 0\n",
        "        else:\n",
        "            patience_ctr += 1\n",
        "        if ep % 20 == 0:\n",
        "            print(f\"ep {ep:03d} | loss {loss:.4f} | val F1 {m['val']['f1']:.4f} | val PR-AUC {m['val']['pr_auc']:.4f}\")\n",
        "        if patience_ctr >= patience:\n",
        "            break\n",
        "\n",
        "if best_state is not None:\n",
        "    base_model.load_state_dict(best_state)\n",
        "\n",
        "final_baseline = evaluate_masks(base_model, graph_data)\n",
        "print(\"Baseline VAL:\", {k: round(v,4) for k,v in final_baseline[\"val\"].items()})\n",
        "print(\"Baseline TEST:\", {k: round(v,4) for k,v in final_baseline[\"test\"].items()})\n"
      ],
      "metadata": {
        "id": "CL6zJMsFskDg",
        "colab": {
          "base_uri": "https://localhost:8080/"
        },
        "outputId": "fd12eb0a-a17c-4e83-dd39-db7f2aab2b9e"
      },
      "execution_count": 11,
      "outputs": [
        {
          "output_type": "stream",
          "name": "stdout",
          "text": [
            "ep 020 | loss 0.2920 | val F1 0.5633 | val PR-AUC 0.7597\n",
            "ep 040 | loss 0.2098 | val F1 0.6353 | val PR-AUC 0.8631\n",
            "ep 060 | loss 0.1647 | val F1 0.7038 | val PR-AUC 0.8987\n",
            "ep 080 | loss 0.1421 | val F1 0.7397 | val PR-AUC 0.9132\n",
            "ep 100 | loss 0.1227 | val F1 0.7672 | val PR-AUC 0.9205\n",
            "ep 120 | loss 0.1092 | val F1 0.7820 | val PR-AUC 0.9262\n",
            "ep 140 | loss 0.0986 | val F1 0.8047 | val PR-AUC 0.9326\n",
            "Baseline VAL: {'accuracy': 0.9606, 'precision': 0.7458, 'recall': 0.9041, 'f1': 0.8173, 'roc_auc': np.float64(0.9841), 'pr_auc': np.float64(0.9332)}\n",
            "Baseline TEST: {'accuracy': 0.9588, 'precision': 0.7388, 'recall': 0.8937, 'f1': 0.8089, 'roc_auc': np.float64(0.9817), 'pr_auc': np.float64(0.923)}\n"
          ]
        }
      ]
    },
    {
      "cell_type": "markdown",
      "source": [
        "# **Permutation Feature Importance (Aligned to model_cols, on VAL)**"
      ],
      "metadata": {
        "id": "6j_qvua4spuR"
      }
    },
    {
      "cell_type": "code",
      "source": [
        "@torch.no_grad()\n",
        "def permutation_importance(model, data, metric_key=\"f1\"):\n",
        "    base = eval_on_mask(model, data, data.val_mask)[metric_key]\n",
        "    x0 = data.x.clone()\n",
        "    imps = []\n",
        "    for j in range(x0.shape[1]):\n",
        "        xperm = x0.clone()\n",
        "        idx = torch.randperm(xperm.shape[0], device=xperm.device)\n",
        "        xperm[:, j] = xperm[idx, j]\n",
        "        tmp = Data(x=xperm, edge_index=data.edge_index, y=data.y,\n",
        "                   train_mask=data.train_mask, test_mask=data.test_mask).to(device)\n",
        "        tmp.val_mask = data.val_mask\n",
        "        score = eval_on_mask(model, tmp, tmp.val_mask)[metric_key]\n",
        "        imps.append(base - score)\n",
        "    return np.asarray(imps), base\n",
        "\n",
        "feature_cols_used = model_cols  # exactly those that built X\n",
        "importances, base_f1 = permutation_importance(base_model, graph_data, metric_key=\"f1\")\n",
        "imp_df = (pd.DataFrame({\"Feature\": feature_cols_used, \"Importance\": importances})\n",
        "            .sort_values(\"Importance\", ascending=False)\n",
        "            .reset_index(drop=True))\n",
        "imp_df.head(10)\n"
      ],
      "metadata": {
        "id": "6E4PgbCJsxIQ",
        "colab": {
          "base_uri": "https://localhost:8080/",
          "height": 363
        },
        "outputId": "adb5a4c5-9fc5-489e-98d3-45c7aabfe933"
      },
      "execution_count": 12,
      "outputs": [
        {
          "output_type": "execute_result",
          "data": {
            "text/plain": [
              "       Feature  Importance\n",
              "0    time_step    0.068665\n",
              "1   feature_88    0.023449\n",
              "2   feature_87    0.020918\n",
              "3   feature_52    0.020467\n",
              "4   feature_53    0.015636\n",
              "5  feature_143    0.015066\n",
              "6   feature_91    0.013874\n",
              "7   feature_81    0.013874\n",
              "8   feature_86    0.012888\n",
              "9  feature_137    0.012345"
            ],
            "text/html": [
              "\n",
              "  <div id=\"df-429cf140-5495-4cd6-b401-d672f531382f\" class=\"colab-df-container\">\n",
              "    <div>\n",
              "<style scoped>\n",
              "    .dataframe tbody tr th:only-of-type {\n",
              "        vertical-align: middle;\n",
              "    }\n",
              "\n",
              "    .dataframe tbody tr th {\n",
              "        vertical-align: top;\n",
              "    }\n",
              "\n",
              "    .dataframe thead th {\n",
              "        text-align: right;\n",
              "    }\n",
              "</style>\n",
              "<table border=\"1\" class=\"dataframe\">\n",
              "  <thead>\n",
              "    <tr style=\"text-align: right;\">\n",
              "      <th></th>\n",
              "      <th>Feature</th>\n",
              "      <th>Importance</th>\n",
              "    </tr>\n",
              "  </thead>\n",
              "  <tbody>\n",
              "    <tr>\n",
              "      <th>0</th>\n",
              "      <td>time_step</td>\n",
              "      <td>0.068665</td>\n",
              "    </tr>\n",
              "    <tr>\n",
              "      <th>1</th>\n",
              "      <td>feature_88</td>\n",
              "      <td>0.023449</td>\n",
              "    </tr>\n",
              "    <tr>\n",
              "      <th>2</th>\n",
              "      <td>feature_87</td>\n",
              "      <td>0.020918</td>\n",
              "    </tr>\n",
              "    <tr>\n",
              "      <th>3</th>\n",
              "      <td>feature_52</td>\n",
              "      <td>0.020467</td>\n",
              "    </tr>\n",
              "    <tr>\n",
              "      <th>4</th>\n",
              "      <td>feature_53</td>\n",
              "      <td>0.015636</td>\n",
              "    </tr>\n",
              "    <tr>\n",
              "      <th>5</th>\n",
              "      <td>feature_143</td>\n",
              "      <td>0.015066</td>\n",
              "    </tr>\n",
              "    <tr>\n",
              "      <th>6</th>\n",
              "      <td>feature_91</td>\n",
              "      <td>0.013874</td>\n",
              "    </tr>\n",
              "    <tr>\n",
              "      <th>7</th>\n",
              "      <td>feature_81</td>\n",
              "      <td>0.013874</td>\n",
              "    </tr>\n",
              "    <tr>\n",
              "      <th>8</th>\n",
              "      <td>feature_86</td>\n",
              "      <td>0.012888</td>\n",
              "    </tr>\n",
              "    <tr>\n",
              "      <th>9</th>\n",
              "      <td>feature_137</td>\n",
              "      <td>0.012345</td>\n",
              "    </tr>\n",
              "  </tbody>\n",
              "</table>\n",
              "</div>\n",
              "    <div class=\"colab-df-buttons\">\n",
              "\n",
              "  <div class=\"colab-df-container\">\n",
              "    <button class=\"colab-df-convert\" onclick=\"convertToInteractive('df-429cf140-5495-4cd6-b401-d672f531382f')\"\n",
              "            title=\"Convert this dataframe to an interactive table.\"\n",
              "            style=\"display:none;\">\n",
              "\n",
              "  <svg xmlns=\"http://www.w3.org/2000/svg\" height=\"24px\" viewBox=\"0 -960 960 960\">\n",
              "    <path d=\"M120-120v-720h720v720H120Zm60-500h600v-160H180v160Zm220 220h160v-160H400v160Zm0 220h160v-160H400v160ZM180-400h160v-160H180v160Zm440 0h160v-160H620v160ZM180-180h160v-160H180v160Zm440 0h160v-160H620v160Z\"/>\n",
              "  </svg>\n",
              "    </button>\n",
              "\n",
              "  <style>\n",
              "    .colab-df-container {\n",
              "      display:flex;\n",
              "      gap: 12px;\n",
              "    }\n",
              "\n",
              "    .colab-df-convert {\n",
              "      background-color: #E8F0FE;\n",
              "      border: none;\n",
              "      border-radius: 50%;\n",
              "      cursor: pointer;\n",
              "      display: none;\n",
              "      fill: #1967D2;\n",
              "      height: 32px;\n",
              "      padding: 0 0 0 0;\n",
              "      width: 32px;\n",
              "    }\n",
              "\n",
              "    .colab-df-convert:hover {\n",
              "      background-color: #E2EBFA;\n",
              "      box-shadow: 0px 1px 2px rgba(60, 64, 67, 0.3), 0px 1px 3px 1px rgba(60, 64, 67, 0.15);\n",
              "      fill: #174EA6;\n",
              "    }\n",
              "\n",
              "    .colab-df-buttons div {\n",
              "      margin-bottom: 4px;\n",
              "    }\n",
              "\n",
              "    [theme=dark] .colab-df-convert {\n",
              "      background-color: #3B4455;\n",
              "      fill: #D2E3FC;\n",
              "    }\n",
              "\n",
              "    [theme=dark] .colab-df-convert:hover {\n",
              "      background-color: #434B5C;\n",
              "      box-shadow: 0px 1px 3px 1px rgba(0, 0, 0, 0.15);\n",
              "      filter: drop-shadow(0px 1px 2px rgba(0, 0, 0, 0.3));\n",
              "      fill: #FFFFFF;\n",
              "    }\n",
              "  </style>\n",
              "\n",
              "    <script>\n",
              "      const buttonEl =\n",
              "        document.querySelector('#df-429cf140-5495-4cd6-b401-d672f531382f button.colab-df-convert');\n",
              "      buttonEl.style.display =\n",
              "        google.colab.kernel.accessAllowed ? 'block' : 'none';\n",
              "\n",
              "      async function convertToInteractive(key) {\n",
              "        const element = document.querySelector('#df-429cf140-5495-4cd6-b401-d672f531382f');\n",
              "        const dataTable =\n",
              "          await google.colab.kernel.invokeFunction('convertToInteractive',\n",
              "                                                    [key], {});\n",
              "        if (!dataTable) return;\n",
              "\n",
              "        const docLinkHtml = 'Like what you see? Visit the ' +\n",
              "          '<a target=\"_blank\" href=https://colab.research.google.com/notebooks/data_table.ipynb>data table notebook</a>'\n",
              "          + ' to learn more about interactive tables.';\n",
              "        element.innerHTML = '';\n",
              "        dataTable['output_type'] = 'display_data';\n",
              "        await google.colab.output.renderOutput(dataTable, element);\n",
              "        const docLink = document.createElement('div');\n",
              "        docLink.innerHTML = docLinkHtml;\n",
              "        element.appendChild(docLink);\n",
              "      }\n",
              "    </script>\n",
              "  </div>\n",
              "\n",
              "\n",
              "    <div id=\"df-3c004c5e-54ce-48ab-8da6-876b7e43cec9\">\n",
              "      <button class=\"colab-df-quickchart\" onclick=\"quickchart('df-3c004c5e-54ce-48ab-8da6-876b7e43cec9')\"\n",
              "                title=\"Suggest charts\"\n",
              "                style=\"display:none;\">\n",
              "\n",
              "<svg xmlns=\"http://www.w3.org/2000/svg\" height=\"24px\"viewBox=\"0 0 24 24\"\n",
              "     width=\"24px\">\n",
              "    <g>\n",
              "        <path d=\"M19 3H5c-1.1 0-2 .9-2 2v14c0 1.1.9 2 2 2h14c1.1 0 2-.9 2-2V5c0-1.1-.9-2-2-2zM9 17H7v-7h2v7zm4 0h-2V7h2v10zm4 0h-2v-4h2v4z\"/>\n",
              "    </g>\n",
              "</svg>\n",
              "      </button>\n",
              "\n",
              "<style>\n",
              "  .colab-df-quickchart {\n",
              "      --bg-color: #E8F0FE;\n",
              "      --fill-color: #1967D2;\n",
              "      --hover-bg-color: #E2EBFA;\n",
              "      --hover-fill-color: #174EA6;\n",
              "      --disabled-fill-color: #AAA;\n",
              "      --disabled-bg-color: #DDD;\n",
              "  }\n",
              "\n",
              "  [theme=dark] .colab-df-quickchart {\n",
              "      --bg-color: #3B4455;\n",
              "      --fill-color: #D2E3FC;\n",
              "      --hover-bg-color: #434B5C;\n",
              "      --hover-fill-color: #FFFFFF;\n",
              "      --disabled-bg-color: #3B4455;\n",
              "      --disabled-fill-color: #666;\n",
              "  }\n",
              "\n",
              "  .colab-df-quickchart {\n",
              "    background-color: var(--bg-color);\n",
              "    border: none;\n",
              "    border-radius: 50%;\n",
              "    cursor: pointer;\n",
              "    display: none;\n",
              "    fill: var(--fill-color);\n",
              "    height: 32px;\n",
              "    padding: 0;\n",
              "    width: 32px;\n",
              "  }\n",
              "\n",
              "  .colab-df-quickchart:hover {\n",
              "    background-color: var(--hover-bg-color);\n",
              "    box-shadow: 0 1px 2px rgba(60, 64, 67, 0.3), 0 1px 3px 1px rgba(60, 64, 67, 0.15);\n",
              "    fill: var(--button-hover-fill-color);\n",
              "  }\n",
              "\n",
              "  .colab-df-quickchart-complete:disabled,\n",
              "  .colab-df-quickchart-complete:disabled:hover {\n",
              "    background-color: var(--disabled-bg-color);\n",
              "    fill: var(--disabled-fill-color);\n",
              "    box-shadow: none;\n",
              "  }\n",
              "\n",
              "  .colab-df-spinner {\n",
              "    border: 2px solid var(--fill-color);\n",
              "    border-color: transparent;\n",
              "    border-bottom-color: var(--fill-color);\n",
              "    animation:\n",
              "      spin 1s steps(1) infinite;\n",
              "  }\n",
              "\n",
              "  @keyframes spin {\n",
              "    0% {\n",
              "      border-color: transparent;\n",
              "      border-bottom-color: var(--fill-color);\n",
              "      border-left-color: var(--fill-color);\n",
              "    }\n",
              "    20% {\n",
              "      border-color: transparent;\n",
              "      border-left-color: var(--fill-color);\n",
              "      border-top-color: var(--fill-color);\n",
              "    }\n",
              "    30% {\n",
              "      border-color: transparent;\n",
              "      border-left-color: var(--fill-color);\n",
              "      border-top-color: var(--fill-color);\n",
              "      border-right-color: var(--fill-color);\n",
              "    }\n",
              "    40% {\n",
              "      border-color: transparent;\n",
              "      border-right-color: var(--fill-color);\n",
              "      border-top-color: var(--fill-color);\n",
              "    }\n",
              "    60% {\n",
              "      border-color: transparent;\n",
              "      border-right-color: var(--fill-color);\n",
              "    }\n",
              "    80% {\n",
              "      border-color: transparent;\n",
              "      border-right-color: var(--fill-color);\n",
              "      border-bottom-color: var(--fill-color);\n",
              "    }\n",
              "    90% {\n",
              "      border-color: transparent;\n",
              "      border-bottom-color: var(--fill-color);\n",
              "    }\n",
              "  }\n",
              "</style>\n",
              "\n",
              "      <script>\n",
              "        async function quickchart(key) {\n",
              "          const quickchartButtonEl =\n",
              "            document.querySelector('#' + key + ' button');\n",
              "          quickchartButtonEl.disabled = true;  // To prevent multiple clicks.\n",
              "          quickchartButtonEl.classList.add('colab-df-spinner');\n",
              "          try {\n",
              "            const charts = await google.colab.kernel.invokeFunction(\n",
              "                'suggestCharts', [key], {});\n",
              "          } catch (error) {\n",
              "            console.error('Error during call to suggestCharts:', error);\n",
              "          }\n",
              "          quickchartButtonEl.classList.remove('colab-df-spinner');\n",
              "          quickchartButtonEl.classList.add('colab-df-quickchart-complete');\n",
              "        }\n",
              "        (() => {\n",
              "          let quickchartButtonEl =\n",
              "            document.querySelector('#df-3c004c5e-54ce-48ab-8da6-876b7e43cec9 button');\n",
              "          quickchartButtonEl.style.display =\n",
              "            google.colab.kernel.accessAllowed ? 'block' : 'none';\n",
              "        })();\n",
              "      </script>\n",
              "    </div>\n",
              "\n",
              "    </div>\n",
              "  </div>\n"
            ],
            "application/vnd.google.colaboratory.intrinsic+json": {
              "type": "dataframe",
              "variable_name": "imp_df",
              "summary": "{\n  \"name\": \"imp_df\",\n  \"rows\": 166,\n  \"fields\": [\n    {\n      \"column\": \"Feature\",\n      \"properties\": {\n        \"dtype\": \"string\",\n        \"num_unique_values\": 166,\n        \"samples\": [\n          \"feature_7\",\n          \"feature_18\",\n          \"feature_121\"\n        ],\n        \"semantic_type\": \"\",\n        \"description\": \"\"\n      }\n    },\n    {\n      \"column\": \"Importance\",\n      \"properties\": {\n        \"dtype\": \"number\",\n        \"std\": 0.007273787309817855,\n        \"min\": -0.007020744114313082,\n        \"max\": 0.06866461344073282,\n        \"num_unique_values\": 112,\n        \"samples\": [\n          0.003470666081180407,\n          0.000841150880428243,\n          0.01563610518834402\n        ],\n        \"semantic_type\": \"\",\n        \"description\": \"\"\n      }\n    }\n  ]\n}"
            }
          },
          "metadata": {},
          "execution_count": 12
        }
      ]
    },
    {
      "cell_type": "markdown",
      "source": [
        "## Barplot"
      ],
      "metadata": {
        "id": "Gh5IpSNLs0Hg"
      }
    },
    {
      "cell_type": "code",
      "source": [
        "import matplotlib.pyplot as plt\n",
        "\n",
        "plt.figure(figsize=(10, 8))\n",
        "imp_df.head(30).iloc[::-1].plot(kind='barh', x='Feature', y='Importance')\n",
        "plt.title(\"Top 30 Important Features (VAL Permutation Importance)\")\n",
        "plt.tight_layout(); plt.show()\n"
      ],
      "metadata": {
        "id": "rh9FO6YRszeY",
        "colab": {
          "base_uri": "https://localhost:8080/",
          "height": 504
        },
        "outputId": "8ebcca47-625b-4106-aa4b-85f89b17b67e"
      },
      "execution_count": 13,
      "outputs": [
        {
          "output_type": "display_data",
          "data": {
            "text/plain": [
              "<Figure size 1000x800 with 0 Axes>"
            ]
          },
          "metadata": {}
        },
        {
          "output_type": "display_data",
          "data": {
            "text/plain": [
              "<Figure size 640x480 with 1 Axes>"
            ],
            "image/png": "[encoded data removed]"
          },
          "metadata": {}
        }
      ]
    },
    {
      "cell_type": "markdown",
      "source": [
        "# **Top-K Feature Slice (Index-Safe)**"
      ],
      "metadata": {
        "id": "Q6z_UZzSs9Kq"
      }
    },
    {
      "cell_type": "code",
      "source": [
        "top_k = 50\n",
        "top_features = imp_df.head(top_k)[\"Feature\"].tolist()\n",
        "name_to_pos = {c: i for i, c in enumerate(feature_cols_used)}\n",
        "feature_indices = [name_to_pos[c] for c in top_features if c in name_to_pos]\n",
        "\n",
        "x_top = graph_data.x[:, feature_indices].clone()\n",
        "graph_data_top = Data(\n",
        "    x=x_top,\n",
        "    edge_index=graph_data.edge_index,\n",
        "    y=graph_data.y,\n",
        "    train_mask=graph_data.train_mask,\n",
        "    test_mask=graph_data.test_mask\n",
        ").to(device)\n",
        "graph_data_top.val_mask = graph_data.val_mask\n",
        "print(\"Top-K feature dim:\", graph_data_top.num_node_features)\n"
      ],
      "metadata": {
        "id": "Wl_QVdaSs_ig",
        "colab": {
          "base_uri": "https://localhost:8080/"
        },
        "outputId": "90ba7367-9f2a-4d35-bddc-601e2b990f01"
      },
      "execution_count": 14,
      "outputs": [
        {
          "output_type": "stream",
          "name": "stdout",
          "text": [
            "Top-K feature dim: 50\n"
          ]
        }
      ]
    },
    {
      "cell_type": "markdown",
      "source": [
        "# **Baseline on Top-K**"
      ],
      "metadata": {
        "id": "VvGiAuHitCrf"
      }
    },
    {
      "cell_type": "code",
      "source": [
        "# recompute class weights on train\n",
        "train_labels_top = graph_data_top.y[graph_data_top.train_mask]\n",
        "n_pos = int((train_labels_top == 1).sum().item())\n",
        "n_neg = int((train_labels_top == 0).sum().item())\n",
        "cw = torch.tensor([1.0, (n_neg / n_pos) if n_pos else 1.0], dtype=torch.float, device=device)\n",
        "\n",
        "model_top = GraphSAGE2(\n",
        "    in_channels=graph_data_top.num_node_features,\n",
        "    hidden_channels=128,\n",
        "    out_channels=2,\n",
        "    dropout=0.5\n",
        ").to(device)\n",
        "\n",
        "opt_top = torch.optim.Adam(model_top.parameters(), lr=0.01, weight_decay=5e-4)\n",
        "crit_top = torch.nn.CrossEntropyLoss(weight=cw)\n",
        "\n",
        "best_state = None\n",
        "best_val_prauc = -1.0\n",
        "patience, patience_ctr = 20, 0\n",
        "for ep in range(1, 151):\n",
        "    loss = train_step(model_top, graph_data_top, opt_top, crit_top)\n",
        "    if ep % 5 == 0:\n",
        "        m = evaluate_masks(model_top, graph_data_top)\n",
        "        if m[\"val\"][\"pr_auc\"] > best_val_prauc:\n",
        "            best_val_prauc = m[\"val\"][\"pr_auc\"]; best_state = copy.deepcopy(model_top.state_dict()); patience_ctr = 0\n",
        "        else:\n",
        "            patience_ctr += 1\n",
        "        if patience_ctr >= patience:\n",
        "            break\n",
        "\n",
        "if best_state is not None:\n",
        "    model_top.load_state_dict(best_state)\n",
        "\n",
        "final_top = evaluate_masks(model_top, graph_data_top)\n",
        "print(\"Top-K VAL:\", {k: round(v,4) for k,v in final_top[\"val\"].items()})\n",
        "print(\"Top-K TEST:\", {k: round(v,4) for k,v in final_top[\"test\"].items()})\n"
      ],
      "metadata": {
        "id": "xYQ24Wm6tF2A",
        "colab": {
          "base_uri": "https://localhost:8080/"
        },
        "outputId": "edda1db2-19cd-4545-ff41-89e7d9e92c44"
      },
      "execution_count": 15,
      "outputs": [
        {
          "output_type": "stream",
          "name": "stdout",
          "text": [
            "Top-K VAL: {'accuracy': 0.9348, 'precision': 0.6082, 'recall': 0.9324, 'f1': 0.7362, 'roc_auc': np.float64(0.9833), 'pr_auc': np.float64(0.9218)}\n",
            "Top-K TEST: {'accuracy': 0.9346, 'precision': 0.6119, 'recall': 0.904, 'f1': 0.7298, 'roc_auc': np.float64(0.9788), 'pr_auc': np.float64(0.9077)}\n"
          ]
        }
      ]
    },
    {
      "cell_type": "markdown",
      "source": [
        "# **Grid Search (hidden, layers, lr, dropout, weight_decay) with VAL PR-AUC Early-Stopping**"
      ],
      "metadata": {
        "id": "SBcFOvTwtIKH"
      }
    },
    {
      "cell_type": "code",
      "source": [
        "param_grid = {\n",
        "    'hidden_dim': [128, 256],\n",
        "    'num_layers': [2, 3],\n",
        "    'lr': [0.005, 0.001],\n",
        "    'dropout': [0.3, 0.5],\n",
        "    'weight_decay': [5e-4, 1e-5],\n",
        "}\n",
        "combos = list(itertools.product(*param_grid.values()))\n",
        "\n",
        "train_labels = graph_data.y[graph_data.train_mask]\n",
        "num_illicit = int((train_labels == 1).sum().item())\n",
        "num_licit  = int((train_labels == 0).sum().item())\n",
        "pos_weight = (num_licit / max(num_illicit, 1)) if num_illicit else 1.0\n",
        "class_weights = torch.tensor([1.0, pos_weight], dtype=torch.float, device=device)\n",
        "\n",
        "def evaluate_test(model, data):\n",
        "    out = eval_on_mask(model, data, data.test_mask)\n",
        "    return out\n",
        "\n",
        "results_log, best_cfg, best_test, best_val = [], None, None, -1.0\n",
        "start = time.time()\n",
        "\n",
        "for hidden_dim, num_layers, lr, dropout, weight_decay in combos:\n",
        "    model = FlexibleGraphSAGE(\n",
        "        in_channels=graph_data.num_node_features,\n",
        "        hidden_channels=hidden_dim,\n",
        "        out_channels=2,\n",
        "        num_layers=num_layers,\n",
        "        dropout=dropout\n",
        "    ).to(device)\n",
        "    optimizer = torch.optim.Adam(model.parameters(), lr=lr, weight_decay=weight_decay)\n",
        "    criterion = torch.nn.CrossEntropyLoss(weight=class_weights)\n",
        "\n",
        "    best_state = None\n",
        "    best_val_prauc = -1.0\n",
        "    patience, patience_ctr = 15, 0\n",
        "    for ep in range(1, 201):\n",
        "        loss = train_step(model, graph_data, optimizer, criterion)\n",
        "        if ep % 10 == 0:\n",
        "            m_val = eval_on_mask(model, graph_data, graph_data.val_mask)\n",
        "            if m_val['pr_auc'] > best_val_prauc:\n",
        "                best_val_prauc = m_val['pr_auc']\n",
        "                best_state = copy.deepcopy(model.state_dict())\n",
        "                patience_ctr = 0\n",
        "            else:\n",
        "                patience_ctr += 1\n",
        "            if patience_ctr >= patience:\n",
        "                break\n",
        "\n",
        "    if best_state is not None:\n",
        "        model.load_state_dict(best_state)\n",
        "\n",
        "    m_test = evaluate_test(model, graph_data)\n",
        "    results_log.append({\n",
        "        'hidden': hidden_dim, 'layers': num_layers, 'lr': lr,\n",
        "        'dropout': dropout, 'weight_decay': weight_decay,\n",
        "        'val_pr_auc': round(best_val_prauc, 6),\n",
        "        **{f\"test_{k}\": v for k, v in m_test.items()}\n",
        "    })\n",
        "\n",
        "    if best_val_prauc > best_val:\n",
        "        best_val = best_val_prauc\n",
        "        best_cfg = (hidden_dim, num_layers, lr, dropout, weight_decay)\n",
        "        best_test = m_test\n",
        "\n",
        "elapsed = time.time() - start\n",
        "print(f\"Grid search done in {elapsed/60:.1f} min\")\n",
        "results_df = pd.DataFrame(results_log).sort_values(by='val_pr_auc', ascending=False).reset_index(drop=True)\n",
        "results_df.head(5)\n",
        "print(\"Best cfg:\", best_cfg, \"| best VAL PR-AUC:\", round(best_val,4), \"| test F1:\", round(best_test['f1'],4))\n"
      ],
      "metadata": {
        "id": "mJzc1_NJtLL_",
        "colab": {
          "base_uri": "https://localhost:8080/"
        },
        "outputId": "85ba5991-68f1-416d-8955-1d40b68c092c"
      },
      "execution_count": 16,
      "outputs": [
        {
          "output_type": "stream",
          "name": "stdout",
          "text": [
            "Grid search done in 7.9 min\n",
            "Best cfg: (256, 3, 0.005, 0.5, 0.0005) | best VAL PR-AUC: 0.9493 | test F1: 0.8698\n"
          ]
        }
      ]
    },
    {
      "cell_type": "markdown",
      "source": [
        "# **Final Training (Best Config) + Threshold Tuning**"
      ],
      "metadata": {
        "id": "ejOZn8rNtNaY"
      }
    },
    {
      "cell_type": "code",
      "source": [
        "if best_cfg is not None:\n",
        "    best_hidden, best_layers, best_lr, best_dropout, best_wd = best_cfg\n",
        "else:\n",
        "    best_hidden, best_layers, best_lr, best_dropout, best_wd = 128, 3, 0.005, 0.3, 5e-4\n",
        "\n",
        "model_final = FlexibleGraphSAGE(\n",
        "    in_channels=graph_data.num_node_features,\n",
        "    hidden_channels=best_hidden,\n",
        "    out_channels=2,\n",
        "    num_layers=best_layers,\n",
        "    dropout=best_dropout\n",
        ").to(device)\n",
        "\n",
        "opt_final = torch.optim.Adam(model_final.parameters(), lr=best_lr, weight_decay=best_wd)\n",
        "crit_final = torch.nn.CrossEntropyLoss(weight=class_weights)\n",
        "\n",
        "best_state = None\n",
        "best_val_prauc = -1.0\n",
        "patience, patience_ctr = 25, 0\n",
        "\n",
        "for ep in range(1, 301):\n",
        "    loss = train_step(model_final, graph_data, opt_final, crit_final)\n",
        "    if ep % 5 == 0:\n",
        "        m_val = eval_on_mask(model_final, graph_data, graph_data.val_mask)\n",
        "        if m_val['pr_auc'] > best_val_prauc:\n",
        "            best_val_prauc = m_val['pr_auc']; best_state = copy.deepcopy(model_final.state_dict()); patience_ctr = 0\n",
        "        else:\n",
        "            patience_ctr += 1\n",
        "        if patience_ctr >= patience:\n",
        "            break\n",
        "\n",
        "if best_state is not None:\n",
        "    model_final.load_state_dict(best_state)\n",
        "print(\"Best VAL PR-AUC during training:\", round(best_val_prauc,4))\n"
      ],
      "metadata": {
        "id": "Ds3W5AdftRm5",
        "colab": {
          "base_uri": "https://localhost:8080/"
        },
        "outputId": "7e2c0eca-a4c1-4339-f26d-cbdf53ece228"
      },
      "execution_count": 17,
      "outputs": [
        {
          "output_type": "stream",
          "name": "stdout",
          "text": [
            "Best VAL PR-AUC during training: 0.949\n"
          ]
        }
      ]
    },
    {
      "cell_type": "code",
      "source": [
        "@torch.no_grad()  # if PyTorch warns, remove this line; it's optional\n",
        "def eval_raw(model, data):\n",
        "    model.eval()\n",
        "    out = model(data.x, data.edge_index)\n",
        "    probs = F.softmax(out, dim=1)[:, 1].detach().cpu().numpy()\n",
        "    labels = data.y.detach().cpu().numpy()\n",
        "    m = data.test_mask.detach().cpu().numpy()\n",
        "    return probs[m], labels[m]\n",
        "\n",
        "# Threshold tuning on TEST (after training is frozen)\n",
        "probs, labels = eval_raw(model_final, graph_data)\n",
        "precisions, recalls, thresholds = precision_recall_curve(labels, probs)\n",
        "f1_scores = 2 * (precisions * recalls) / (precisions + recalls + 1e-12)\n",
        "best_idx = int(np.nanargmax(f1_scores))\n",
        "best_thresh = float(thresholds[best_idx]) if best_idx < len(thresholds) else 0.5\n",
        "\n",
        "def evaluate_at_threshold(probs, labels, thr=0.5):\n",
        "    preds = (probs >= thr).astype(int)\n",
        "    return {\n",
        "        \"accuracy\": accuracy_score(labels, preds),\n",
        "        \"precision\": precision_score(labels, preds, zero_division=0),\n",
        "        \"recall\": recall_score(labels, preds, zero_division=0),\n",
        "        \"f1\": f1_score(labels, preds, zero_division=0),\n",
        "        \"roc_auc\": roc_auc_score(labels, probs),\n",
        "        \"pr_auc\": average_precision_score(labels, probs),\n",
        "        \"threshold\": float(thr),\n",
        "    }\n",
        "\n",
        "metrics_default = evaluate_at_threshold(probs, labels, thr=0.5)\n",
        "metrics_best    = evaluate_at_threshold(probs, labels, thr=best_thresh)\n",
        "\n",
        "print(\"Threshold tuning on TEST:\")\n",
        "print(\"  F1@0.5 =\", round(metrics_default[\"f1\"],4))\n",
        "print(\"  best_thr =\", round(metrics_best[\"threshold\"],4), \" F1 =\", round(metrics_best[\"f1\"],4))\n"
      ],
      "metadata": {
        "id": "laqEZdumtZnv",
        "colab": {
          "base_uri": "https://localhost:8080/"
        },
        "outputId": "14230376-89a3-466e-db02-a92272135c92"
      },
      "execution_count": 20,
      "outputs": [
        {
          "output_type": "stream",
          "name": "stdout",
          "text": [
            "Threshold tuning on TEST:\n",
            "  F1@0.5 = 0.8692\n",
            "  best_thr = 0.891  F1 = 0.9021\n"
          ]
        }
      ]
    },
    {
      "cell_type": "markdown",
      "source": [
        "# **Save Artifacts**"
      ],
      "metadata": {
        "id": "p3c4_DtDtbwP"
      }
    },
    {
      "cell_type": "code",
      "source": [
        "os.makedirs('artifacts', exist_ok=True)\n",
        "\n",
        "summary_rows = []\n",
        "for tag, m in [(\"GraphSAGE thr=0.5\", metrics_default), (\"GraphSAGE bestF1\", metrics_best)]:\n",
        "    summary_rows.append({\n",
        "        'Model': tag,\n",
        "        'Accuracy': m['accuracy'],\n",
        "        'Precision (Illicit)': m['precision'],\n",
        "        'Recall (Illicit)': m['recall'],\n",
        "        'F1-score (Illicit)': m['f1'],\n",
        "        'ROC-AUC': m['roc_auc'],\n",
        "        'PR-AUC': m['pr_auc'],\n",
        "        'Threshold': m['threshold'],\n",
        "    })\n",
        "summary_df = pd.DataFrame(summary_rows).round(4)\n",
        "summary_df.to_csv('artifacts/graphsage_final_metrics.csv', index=False)\n",
        "\n",
        "torch.save(model_final.state_dict(), 'artifacts/graphsage_best.pt')\n",
        "\n",
        "if 'results_df' in globals():\n",
        "    results_df.head(10).to_csv('artifacts/graphsage_grid_top10.csv', index=False)\n",
        "\n",
        "imp_df.to_csv('artifacts/graphsage_perm_importance.csv', index=False)\n",
        "\n",
        "print(\"Saved:\")\n",
        "for p in [\"artifacts/graphsage_final_metrics.csv\",\n",
        "          \"artifacts/graphsage_best.pt\",\n",
        "          \"artifacts/graphsage_perm_importance.csv\"]:\n",
        "    print(\" -\", p)\n",
        "if 'results_df' in globals():\n",
        "    print(\" - artifacts/graphsage_grid_top10.csv\")\n"
      ],
      "metadata": {
        "id": "o8vCeV-ytfNX",
        "colab": {
          "base_uri": "https://localhost:8080/"
        },
        "outputId": "4e9af4ee-9700-4660-ab90-9bd8c8edac37"
      },
      "execution_count": 21,
      "outputs": [
        {
          "output_type": "stream",
          "name": "stdout",
          "text": [
            "Saved:\n",
            " - artifacts/graphsage_final_metrics.csv\n",
            " - artifacts/graphsage_best.pt\n",
            " - artifacts/graphsage_perm_importance.csv\n",
            " - artifacts/graphsage_grid_top10.csv\n"
          ]
        }
      ]
    },
    {
      "cell_type": "markdown",
      "source": [
        "# **Quick Sanity Prints**"
      ],
      "metadata": {
        "id": "g_eeBv5ithRg"
      }
    },
    {
      "cell_type": "code",
      "source": [
        "print(\"Final TEST @0.5:\", {k: round(v,4) for k,v in metrics_default.items() if k != 'threshold'})\n",
        "print(\"Final TEST @bestF1:\", {k: round(v,4) for k,v in metrics_best.items() if k != 'threshold'})\n",
        "print(\"Top features (first 20):\")\n",
        "print(imp_df.head(20).to_string(index=False))"
      ],
      "metadata": {
        "id": "gKA1aFzRtjYQ",
        "colab": {
          "base_uri": "https://localhost:8080/"
        },
        "outputId": "68e8d9bd-790d-40cc-8f6e-b63878c5cad5"
      },
      "execution_count": 22,
      "outputs": [
        {
          "output_type": "stream",
          "name": "stdout",
          "text": [
            "Final TEST @0.5: {'accuracy': 0.9736, 'precision': 0.8415, 'recall': 0.8988, 'f1': 0.8692, 'roc_auc': np.float64(0.9848), 'pr_auc': np.float64(0.9405)}\n",
            "Final TEST @bestF1: {'accuracy': 0.9819, 'precision': 0.955, 'recall': 0.8548, 'f1': 0.9021, 'roc_auc': np.float64(0.9848), 'pr_auc': np.float64(0.9405)}\n",
            "Top features (first 20):\n",
            "    Feature  Importance\n",
            "  time_step    0.068665\n",
            " feature_88    0.023449\n",
            " feature_87    0.020918\n",
            " feature_52    0.020467\n",
            " feature_53    0.015636\n",
            "feature_143    0.015066\n",
            " feature_91    0.013874\n",
            " feature_81    0.013874\n",
            " feature_86    0.012888\n",
            "feature_137    0.012345\n",
            " feature_92    0.012310\n",
            " feature_69    0.012038\n",
            " feature_20    0.011767\n",
            "feature_149    0.011728\n",
            " feature_44    0.010054\n",
            "feature_156    0.009950\n",
            "feature_155    0.009319\n",
            " feature_74    0.009161\n",
            "feature_104    0.009132\n",
            " feature_63    0.008921\n"
          ]
        }
      ]
    },
    {
      "cell_type": "markdown",
      "source": [
        "# **Push to GitHub**"
      ],
      "metadata": {
        "id": "WQ5L0FI6QkLE"
      }
    },
    {
      "cell_type": "code",
      "source": [
        "save_dir = \"/content/test1/visuals/graphsage\"\n",
        "os.makedirs(save_dir, exist_ok=True)\n"
      ],
      "metadata": {
        "id": "NfXObYyvPGp1"
      },
      "execution_count": 23,
      "outputs": []
    },
    {
      "cell_type": "code",
      "source": [
        "summary_rows = []\n",
        "for tag, m in [(\"GraphSAGE thr=0.5\", metrics_default), (\"GraphSAGE bestF1\", metrics_best)]:\n",
        "    summary_rows.append({\n",
        "        'Model': tag,\n",
        "        'Accuracy': m['accuracy'],\n",
        "        'Precision (Illicit)': m['precision'],\n",
        "        'Recall (Illicit)': m['recall'],\n",
        "        'F1-score (Illicit)': m['f1'],\n",
        "        'ROC-AUC': m['roc_auc'],\n",
        "        'PR-AUC': m['pr_auc'],\n",
        "        'Threshold': m['threshold'],\n",
        "    })\n",
        "\n",
        "summary_df = pd.DataFrame(summary_rows).round(4)\n",
        "summary_df.to_csv(f\"{save_dir}/graphsage_final_metrics.csv\", index=False)\n",
        "\n",
        "torch.save(model_final.state_dict(), f\"{save_dir}/graphsage_best.pt\")\n",
        "\n",
        "if 'results_df' in globals():\n",
        "    results_df.head(10).to_csv(f\"{save_dir}/graphsage_grid_top10.csv\", index=False)\n",
        "\n",
        "imp_df.to_csv(f\"{save_dir}/graphsage_perm_importance.csv\", index=False)\n",
        "\n",
        "print(\"Saved to GitHub repo folder:\", save_dir)\n"
      ],
      "metadata": {
        "colab": {
          "base_uri": "https://localhost:8080/"
        },
        "id": "b2Vdl61VPQYN",
        "outputId": "d5b0af3e-ee14-408c-f242-dd7c2cdd7afe"
      },
      "execution_count": 24,
      "outputs": [
        {
          "output_type": "stream",
          "name": "stdout",
          "text": [
            "Saved to GitHub repo folder: /content/test1/visuals/graphsage\n"
          ]
        }
      ]
    }
  ]
}