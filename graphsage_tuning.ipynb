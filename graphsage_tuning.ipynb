{
  "nbformat": 4,
  "nbformat_minor": 0,
  "metadata": {
    "colab": {
      "provenance": [],
      "gpuType": "T4",
      "include_colab_link": true
    },
    "kernelspec": {
      "name": "python3",
      "display_name": "Python 3"
    },
    "language_info": {
      "name": "python"
    },
    "accelerator": "GPU"
  },
  "cells": [
    {
      "cell_type": "markdown",
      "metadata": {
        "id": "view-in-github",
        "colab_type": "text"
      },
      "source": [
        "<a href=\"https://colab.research.google.com/github/BayramovaNazrin/illicit-btc-detection/blob/main/graphsage_tuning.ipynb\" target=\"_parent\"><img src=\"https://colab.research.google.com/assets/colab-badge.svg\" alt=\"Open In Colab\"/></a>"
      ]
    },
    {
      "cell_type": "markdown",
      "source": [
        "# **Setup & Clone**"
      ],
      "metadata": {
        "id": "kO8zPJawrgeh"
      }
    },
    {
      "cell_type": "code",
      "source": [
        "%cd /content\n",
        "!git clone https://github.com/BayramovaNazrin/illicit-btc-detection.git\n",
        "%cd /content/illicit-btc-detection"
      ],
      "metadata": {
        "colab": {
          "base_uri": "https://localhost:8080/"
        },
        "id": "txvHLKp3rk-x",
        "outputId": "33fced87-b689-4b8d-f3fe-7d850fc79335"
      },
      "execution_count": 1,
      "outputs": [
        {
          "output_type": "stream",
          "name": "stdout",
          "text": [
            "/content\n",
            "Cloning into 'illicit-btc-detection'...\n",
            "remote: Enumerating objects: 199, done.\u001b[K\n",
            "remote: Counting objects: 100% (41/41), done.\u001b[K\n",
            "remote: Compressing objects: 100% (27/27), done.\u001b[K\n",
            "remote: Total 199 (delta 27), reused 14 (delta 14), pack-reused 158 (from 1)\u001b[K\n",
            "Receiving objects: 100% (199/199), 6.83 MiB | 23.54 MiB/s, done.\n",
            "Resolving deltas: 100% (80/80), done.\n",
            "/content/illicit-btc-detection\n"
          ]
        }
      ]
    },
    {
      "cell_type": "code",
      "source": [
        "import sys, os, warnings, copy, time, itertools, random\n",
        "import numpy as np\n",
        "import pandas as pd\n",
        "import torch\n",
        "import torch.nn.functional as F\n",
        "\n",
        "from sklearn.model_selection import train_test_split\n",
        "from sklearn.metrics import (\n",
        "    accuracy_score, precision_score, recall_score, f1_score,\n",
        "    roc_auc_score, average_precision_score, precision_recall_curve\n",
        ")\n",
        "\n",
        "warnings.filterwarnings(\"ignore\")\n",
        "torch.manual_seed(42); np.random.seed(42); random.seed(42)\n",
        "device = torch.device(\"cuda\" if torch.cuda.is_available() else \"cpu\")\n",
        "print(\"Device:\", device)"
      ],
      "metadata": {
        "colab": {
          "base_uri": "https://localhost:8080/"
        },
        "id": "EBG2yAglroZZ",
        "outputId": "f58b84cb-ec6f-498e-9352-755e75213f95"
      },
      "execution_count": 7,
      "outputs": [
        {
          "output_type": "stream",
          "name": "stdout",
          "text": [
            "Device: cuda\n"
          ]
        }
      ]
    },
    {
      "cell_type": "code",
      "source": [
        "try:\n",
        "    import torch_geometric\n",
        "    from torch_geometric.data import Data\n",
        "    from torch_geometric.nn import SAGEConv\n",
        "except Exception:\n",
        "    import torch\n",
        "    %pip -q install torch-scatter torch-sparse torch-cluster torch-spline-conv torch-geometric -f https://data.pyg.org/whl/torch-{torch.__version__}.html\n",
        "    from torch_geometric.data import Data\n",
        "    from torch_geometric.nn import SAGEConv"
      ],
      "metadata": {
        "id": "Le3acbowrqW5",
        "colab": {
          "base_uri": "https://localhost:8080/"
        },
        "outputId": "8df4f642-9933-4abb-ae55-71feea98d042"
      },
      "execution_count": 8,
      "outputs": [
        {
          "output_type": "stream",
          "name": "stdout",
          "text": [
            "\u001b[2K     \u001b[90m━━━━━━━━━━━━━━━━━━━━━━━━━━━━━━━━━━━━━━━\u001b[0m \u001b[32m10.9/10.9 MB\u001b[0m \u001b[31m123.8 MB/s\u001b[0m eta \u001b[36m0:00:00\u001b[0m\n",
            "\u001b[2K     \u001b[90m━━━━━━━━━━━━━━━━━━━━━━━━━━━━━━━━━━━━━━━━\u001b[0m \u001b[32m5.2/5.2 MB\u001b[0m \u001b[31m92.3 MB/s\u001b[0m eta \u001b[36m0:00:00\u001b[0m\n",
            "\u001b[2K     \u001b[90m━━━━━━━━━━━━━━━━━━━━━━━━━━━━━━━━━━━━━━━━\u001b[0m \u001b[32m3.3/3.3 MB\u001b[0m \u001b[31m108.9 MB/s\u001b[0m eta \u001b[36m0:00:00\u001b[0m\n",
            "\u001b[2K     \u001b[90m━━━━━━━━━━━━━━━━━━━━━━━━━━━━━━━━━━━━━━━━\u001b[0m \u001b[32m1.1/1.1 MB\u001b[0m \u001b[31m56.6 MB/s\u001b[0m eta \u001b[36m0:00:00\u001b[0m\n",
            "\u001b[2K     \u001b[90m━━━━━━━━━━━━━━━━━━━━━━━━━━━━━━━━━━━━━━━━\u001b[0m \u001b[32m63.7/63.7 kB\u001b[0m \u001b[31m3.6 MB/s\u001b[0m eta \u001b[36m0:00:00\u001b[0m\n",
            "\u001b[2K   \u001b[90m━━━━━━━━━━━━━━━━━━━━━━━━━━━━━━━━━━━━━━━━\u001b[0m \u001b[32m1.3/1.3 MB\u001b[0m \u001b[31m36.2 MB/s\u001b[0m eta \u001b[36m0:00:00\u001b[0m\n",
            "\u001b[?25h"
          ]
        }
      ]
    },
    {
      "cell_type": "markdown",
      "source": [
        "# **Load Data**"
      ],
      "metadata": {
        "id": "naeXV7r7rtWC"
      }
    },
    {
      "cell_type": "code",
      "source": [
        "from load_data import load_data\n",
        "features_df, edges_df, classes_df, merged_df = load_data()\n",
        "\n",
        "for need, df in [({\"txId\"}, features_df),\n",
        "                 ({\"txId1\",\"txId2\"}, edges_df),\n",
        "                 ({\"txId\",\"class\"}, classes_df)]:\n",
        "    miss = need - set(df.columns)\n",
        "    if miss:\n",
        "        raise RuntimeError(f\"Missing columns {miss} in dataframe\")"
      ],
      "metadata": {
        "id": "FYeENe5vrzSB"
      },
      "execution_count": 11,
      "outputs": []
    },
    {
      "cell_type": "markdown",
      "source": [
        "# **Build Graph Data (x, y, edge_index) + Train/Val/Test Masks**"
      ],
      "metadata": {
        "id": "Rdk_8yeer6qp"
      }
    },
    {
      "cell_type": "code",
      "source": [
        "# Node ids & mapping\n",
        "node_ids = features_df[\"txId\"].to_numpy()\n",
        "if len(node_ids) != len(np.unique(node_ids)):\n",
        "    raise RuntimeError(\"Duplicate txId values in features_df\")\n",
        "\n",
        "node_id_map = {tx: i for i, tx in enumerate(node_ids)}\n",
        "\n",
        "# Feature matrix X from model_cols (drop id/time)\n",
        "drop_cols = [c for c in [\"txId\", \"Time step\"] if c in features_df.columns]\n",
        "model_cols = [c for c in features_df.columns if c not in drop_cols]\n",
        "\n",
        "X = (features_df[model_cols]\n",
        "     .apply(pd.to_numeric, errors=\"coerce\")\n",
        "     .fillna(0.0)\n",
        "     .to_numpy(dtype=np.float32))\n",
        "x = torch.from_numpy(X)\n",
        "\n",
        "# Labels: map {1->1 illicit, 2->0 licit}, unknown -> -1\n",
        "cls = classes_df[classes_df[\"class\"].isin([1,2])][[\"txId\",\"class\"]].copy()\n",
        "y_arr = np.full(len(node_ids), -1, dtype=np.int64)\n",
        "for tx, c in zip(cls[\"txId\"].to_numpy(), cls[\"class\"].to_numpy()):\n",
        "    idx = node_id_map.get(tx)\n",
        "    if idx is not None:\n",
        "        y_arr[idx] = 1 if c == 1 else 0\n",
        "y = torch.from_numpy(y_arr)\n",
        "\n",
        "# Edges -> edge_index [2, E]\n",
        "e = edges_df[[\"txId1\",\"txId2\"]].dropna()\n",
        "e = e[e[\"txId1\"].isin(node_id_map) & e[\"txId2\"].isin(node_id_map)]\n",
        "edge_index = torch.tensor([[node_id_map[s], node_id_map[t]] for s,t in zip(e[\"txId1\"], e[\"txId2\"])],\n",
        "                          dtype=torch.long).t().contiguous()\n",
        "\n",
        "if \"Time step\" in features_df.columns:\n",
        "    steps = features_df[\"Time step\"].to_numpy()\n",
        "    labeled_mask = (y_arr >= 0)\n",
        "\n",
        "    train_total = (steps <= 34) & labeled_mask\n",
        "    test_mask_np = (steps > 34) & labeled_mask\n",
        "\n",
        "    tr_idx = np.where(train_total)[0]\n",
        "    tr_lab = y_arr[tr_idx]\n",
        "    tr_in, val_in = train_test_split(tr_idx, test_size=0.2, random_state=42, stratify=tr_lab)\n",
        "\n",
        "    train_mask = torch.zeros(len(node_ids), dtype=torch.bool); train_mask[tr_in] = True\n",
        "    val_mask   = torch.zeros(len(node_ids), dtype=torch.bool); val_mask[val_in] = True\n",
        "    test_mask  = torch.from_numpy(test_mask_np.astype(bool))\n",
        "else:\n",
        "    labeled_idx = np.where(y_arr >= 0)[0]\n",
        "    tr, te = train_test_split(labeled_idx, test_size=0.3, random_state=42, stratify=y_arr[labeled_idx])\n",
        "    tr, va = train_test_split(tr, test_size=0.2, random_state=42, stratify=y_arr[tr])\n",
        "\n",
        "    train_mask = torch.zeros(len(node_ids), dtype=torch.bool); train_mask[tr] = True\n",
        "    val_mask   = torch.zeros(len(node_ids), dtype=torch.bool); val_mask[va] = True\n",
        "    test_mask  = torch.zeros(len(node_ids), dtype=torch.bool); test_mask[te] = True\n",
        "\n",
        "graph_data = Data(x=x, edge_index=edge_index, y=y,\n",
        "                  train_mask=train_mask, test_mask=test_mask)\n",
        "graph_data.val_mask = val_mask\n",
        "graph_data = graph_data.to(device)\n",
        "\n",
        "print(graph_data)\n",
        "print(\"features used:\", len(model_cols))\n",
        "print(\"labeled:\", int((y>=0).sum()),\n",
        "      \"| train:\", int(train_mask.sum()),\n",
        "      \"val:\", int(val_mask.sum()),\n",
        "      \"test:\", int(test_mask.sum()))\n"
      ],
      "metadata": {
        "id": "4K1ghR8rr-Dg",
        "colab": {
          "base_uri": "https://localhost:8080/"
        },
        "outputId": "963ccbcc-32fc-47f4-c358-e7d8d768cd16"
      },
      "execution_count": 12,
      "outputs": [
        {
          "output_type": "stream",
          "name": "stdout",
          "text": [
            "Data(x=[203769, 166], edge_index=[2, 234355], y=[203769], train_mask=[203769], test_mask=[203769], val_mask=[203769])\n",
            "features used: 166\n",
            "labeled: 46564 | train: 26075 val: 6519 test: 13970\n"
          ]
        }
      ]
    },
    {
      "cell_type": "markdown",
      "source": [
        "# **Model Definitions & Train/Test Helpers**"
      ],
      "metadata": {
        "id": "OmCIb_A4sZKg"
      }
    },
    {
      "cell_type": "code",
      "source": [
        "from torch_geometric.nn import SAGEConv\n",
        "\n",
        "class GraphSAGE2(torch.nn.Module):\n",
        "    def __init__(self, in_channels, hidden_channels, out_channels, dropout=0.5):\n",
        "        super().__init__()\n",
        "        self.conv1 = SAGEConv(in_channels, hidden_channels)\n",
        "        self.conv2 = SAGEConv(hidden_channels, out_channels)\n",
        "        self.dropout = dropout\n",
        "\n",
        "    def forward(self, x, edge_index):\n",
        "        x = self.conv1(x, edge_index); x = F.relu(x)\n",
        "        x = F.dropout(x, p=self.dropout, training=self.training)\n",
        "        x = self.conv2(x, edge_index)\n",
        "        return x\n",
        "\n",
        "class FlexibleGraphSAGE(torch.nn.Module):\n",
        "    def __init__(self, in_channels, hidden_channels, out_channels, num_layers=2, dropout=0.5):\n",
        "        super().__init__()\n",
        "        assert num_layers >= 2\n",
        "        self.convs = torch.nn.ModuleList([SAGEConv(in_channels, hidden_channels)])\n",
        "        for _ in range(num_layers - 2):\n",
        "            self.convs.append(SAGEConv(hidden_channels, hidden_channels))\n",
        "        self.convs.append(SAGEConv(hidden_channels, out_channels))\n",
        "        self.dropout = dropout\n",
        "\n",
        "    def forward(self, x, edge_index):\n",
        "        for conv in self.convs[:-1]:\n",
        "            x = F.relu(conv(x, edge_index))\n",
        "            x = F.dropout(x, p=self.dropout, training=self.training)\n",
        "        return self.convs[-1](x, edge_index)\n",
        "\n",
        "def train_step(model, data, optimizer, criterion):\n",
        "    model.train()\n",
        "    optimizer.zero_grad()\n",
        "    out = model(data.x, data.edge_index)\n",
        "    loss = criterion(out[data.train_mask], data.y[data.train_mask])\n",
        "    loss.backward(); optimizer.step()\n",
        "    return loss.item()\n",
        "\n",
        "@torch.no_grad()\n",
        "def eval_on_mask(model, data, mask):\n",
        "    model.eval()\n",
        "    out = model(data.x, data.edge_index)\n",
        "    probs = F.softmax(out, dim=1)[:,1].detach().cpu().numpy()\n",
        "    labels = data.y.detach().cpu().numpy()\n",
        "    m = mask.detach().cpu().numpy()\n",
        "    preds = (probs[m] >= 0.5).astype(int)\n",
        "    return {\n",
        "        \"accuracy\": accuracy_score(labels[m], preds),\n",
        "        \"precision\": precision_score(labels[m], preds, zero_division=0),\n",
        "        \"recall\": recall_score(labels[m], preds, zero_division=0),\n",
        "        \"f1\": f1_score(labels[m], preds, zero_division=0),\n",
        "        \"roc_auc\": roc_auc_score(labels[m], probs[m]),\n",
        "        \"pr_auc\": average_precision_score(labels[m], probs[m]),\n",
        "    }\n",
        "\n",
        "def evaluate_masks(model, data):\n",
        "    return {\"val\":  eval_on_mask(model, data, data.val_mask),\n",
        "            \"test\": eval_on_mask(model, data, data.test_mask)}\n"
      ],
      "metadata": {
        "id": "7X66yz3kscMA"
      },
      "execution_count": 13,
      "outputs": []
    },
    {
      "cell_type": "markdown",
      "source": [
        "# **Robust Class Weights (Train Only)**"
      ],
      "metadata": {
        "id": "UtyhgAo2sekJ"
      }
    },
    {
      "cell_type": "code",
      "source": [
        "train_labels = graph_data.y[graph_data.train_mask]\n",
        "num_pos = int((train_labels == 1).sum().item())\n",
        "num_neg = int((train_labels == 0).sum().item())\n",
        "if num_pos == 0:\n",
        "    class_weights = torch.tensor([1.0, 1.0], dtype=torch.float, device=device)\n",
        "else:\n",
        "    pos_weight = num_neg / num_pos\n",
        "    class_weights = torch.tensor([1.0, pos_weight], dtype=torch.float, device=device)\n",
        "\n",
        "print(\"Train counts -> licit(0):\", num_neg, \" illicit(1):\", num_pos, \"| pos_weight:\", float(class_weights[1]))\n"
      ],
      "metadata": {
        "id": "9Eulnu-MshzA",
        "colab": {
          "base_uri": "https://localhost:8080/"
        },
        "outputId": "9cf9485d-fc0a-417a-e4b4-52f4b101d475"
      },
      "execution_count": 14,
      "outputs": [
        {
          "output_type": "stream",
          "name": "stdout",
          "text": [
            "Train counts -> licit(0): 23530  illicit(1): 2545 | pos_weight: 9.245579719543457\n"
          ]
        }
      ]
    },
    {
      "cell_type": "markdown",
      "source": [
        "# **Baseline Training + Validation Monitoring**"
      ],
      "metadata": {
        "id": "mbvBbtvoslIh"
      }
    },
    {
      "cell_type": "code",
      "source": [
        "base_model = GraphSAGE2(\n",
        "    in_channels=graph_data.num_node_features,\n",
        "    hidden_channels=128,\n",
        "    out_channels=2,\n",
        "    dropout=0.5\n",
        ").to(device)\n",
        "\n",
        "optimizer = torch.optim.Adam(base_model.parameters(), lr=0.005, weight_decay=5e-4)\n",
        "criterion = torch.nn.CrossEntropyLoss(weight=class_weights)\n",
        "\n",
        "best_state = None\n",
        "best_val_prauc = -1.0\n",
        "patience, patience_ctr = 20, 0\n",
        "max_epochs = 150\n",
        "\n",
        "for ep in range(1, max_epochs+1):\n",
        "    loss = train_step(base_model, graph_data, optimizer, criterion)\n",
        "    if ep % 5 == 0:\n",
        "        m = evaluate_masks(base_model, graph_data)\n",
        "        val_prauc = m[\"val\"][\"pr_auc\"]\n",
        "        if val_prauc > best_val_prauc:\n",
        "            best_val_prauc = val_prauc\n",
        "            best_state = copy.deepcopy(base_model.state_dict())\n",
        "            patience_ctr = 0\n",
        "        else:\n",
        "            patience_ctr += 1\n",
        "        if ep % 20 == 0:\n",
        "            print(f\"ep {ep:03d} | loss {loss:.4f} | val F1 {m['val']['f1']:.4f} | val PR-AUC {m['val']['pr_auc']:.4f}\")\n",
        "        if patience_ctr >= patience:\n",
        "            break\n",
        "\n",
        "if best_state is not None:\n",
        "    base_model.load_state_dict(best_state)\n",
        "\n",
        "final_baseline = evaluate_masks(base_model, graph_data)\n",
        "print(\"Baseline VAL:\", {k: round(v,4) for k,v in final_baseline[\"val\"].items()})\n",
        "print(\"Baseline TEST:\", {k: round(v,4) for k,v in final_baseline[\"test\"].items()})\n"
      ],
      "metadata": {
        "id": "CL6zJMsFskDg",
        "colab": {
          "base_uri": "https://localhost:8080/"
        },
        "outputId": "38b1ec1d-819e-42b2-f924-16a7ccebe18a"
      },
      "execution_count": 15,
      "outputs": [
        {
          "output_type": "stream",
          "name": "stdout",
          "text": [
            "ep 020 | loss 0.2920 | val F1 0.5633 | val PR-AUC 0.7597\n",
            "ep 040 | loss 0.2098 | val F1 0.6353 | val PR-AUC 0.8631\n",
            "ep 060 | loss 0.1647 | val F1 0.7038 | val PR-AUC 0.8987\n",
            "ep 080 | loss 0.1421 | val F1 0.7397 | val PR-AUC 0.9132\n",
            "ep 100 | loss 0.1228 | val F1 0.7718 | val PR-AUC 0.9207\n",
            "ep 120 | loss 0.1094 | val F1 0.7765 | val PR-AUC 0.9256\n",
            "ep 140 | loss 0.0981 | val F1 0.8061 | val PR-AUC 0.9336\n",
            "Baseline VAL: {'accuracy': 0.9569, 'precision': 0.7183, 'recall': 0.9182, 'f1': 0.8061, 'roc_auc': np.float64(0.9843), 'pr_auc': np.float64(0.9336)}\n",
            "Baseline TEST: {'accuracy': 0.9549, 'precision': 0.7131, 'recall': 0.9003, 'f1': 0.7959, 'roc_auc': np.float64(0.9813), 'pr_auc': np.float64(0.9221)}\n"
          ]
        }
      ]
    },
    {
      "cell_type": "markdown",
      "source": [
        "# **Permutation Feature Importance (Aligned to model_cols, on VAL)**"
      ],
      "metadata": {
        "id": "6j_qvua4spuR"
      }
    },
    {
      "cell_type": "code",
      "source": [
        "@torch.no_grad()\n",
        "def permutation_importance(model, data, metric_key=\"f1\"):\n",
        "    base = eval_on_mask(model, data, data.val_mask)[metric_key]\n",
        "    x0 = data.x.clone()\n",
        "    imps = []\n",
        "    for j in range(x0.shape[1]):\n",
        "        xperm = x0.clone()\n",
        "        idx = torch.randperm(xperm.shape[0], device=xperm.device)\n",
        "        xperm[:, j] = xperm[idx, j]\n",
        "        tmp = Data(x=xperm, edge_index=data.edge_index, y=data.y,\n",
        "                   train_mask=data.train_mask, test_mask=data.test_mask).to(device)\n",
        "        tmp.val_mask = data.val_mask\n",
        "        score = eval_on_mask(model, tmp, tmp.val_mask)[metric_key]\n",
        "        imps.append(base - score)\n",
        "    return np.asarray(imps), base\n",
        "\n",
        "feature_cols_used = model_cols\n",
        "importances, base_f1 = permutation_importance(base_model, graph_data, metric_key=\"f1\")\n",
        "imp_df = (pd.DataFrame({\"Feature\": feature_cols_used, \"Importance\": importances})\n",
        "            .sort_values(\"Importance\", ascending=False)\n",
        "            .reset_index(drop=True))\n",
        "imp_df.head(10)\n"
      ],
      "metadata": {
        "id": "6E4PgbCJsxIQ",
        "colab": {
          "base_uri": "https://localhost:8080/",
          "height": 363
        },
        "outputId": "96569095-9b52-4541-ae18-553a6e3a67b6"
      },
      "execution_count": 16,
      "outputs": [
        {
          "output_type": "execute_result",
          "data": {
            "text/plain": [
              "       Feature  Importance\n",
              "0    time_step    0.072058\n",
              "1   feature_87    0.030073\n",
              "2   feature_86    0.021127\n",
              "3  feature_137    0.021127\n",
              "4   feature_81    0.020059\n",
              "5   feature_88    0.019829\n",
              "6   feature_20    0.018439\n",
              "7  feature_152    0.015629\n",
              "8   feature_69    0.015533\n",
              "9   feature_52    0.015183"
            ],
            "text/html": [
              "\n",
              "  <div id=\"df-7dc431d9-5180-4958-be00-bf9d55c3e301\" class=\"colab-df-container\">\n",
              "    <div>\n",
              "<style scoped>\n",
              "    .dataframe tbody tr th:only-of-type {\n",
              "        vertical-align: middle;\n",
              "    }\n",
              "\n",
              "    .dataframe tbody tr th {\n",
              "        vertical-align: top;\n",
              "    }\n",
              "\n",
              "    .dataframe thead th {\n",
              "        text-align: right;\n",
              "    }\n",
              "</style>\n",
              "<table border=\"1\" class=\"dataframe\">\n",
              "  <thead>\n",
              "    <tr style=\"text-align: right;\">\n",
              "      <th></th>\n",
              "      <th>Feature</th>\n",
              "      <th>Importance</th>\n",
              "    </tr>\n",
              "  </thead>\n",
              "  <tbody>\n",
              "    <tr>\n",
              "      <th>0</th>\n",
              "      <td>time_step</td>\n",
              "      <td>0.072058</td>\n",
              "    </tr>\n",
              "    <tr>\n",
              "      <th>1</th>\n",
              "      <td>feature_87</td>\n",
              "      <td>0.030073</td>\n",
              "    </tr>\n",
              "    <tr>\n",
              "      <th>2</th>\n",
              "      <td>feature_86</td>\n",
              "      <td>0.021127</td>\n",
              "    </tr>\n",
              "    <tr>\n",
              "      <th>3</th>\n",
              "      <td>feature_137</td>\n",
              "      <td>0.021127</td>\n",
              "    </tr>\n",
              "    <tr>\n",
              "      <th>4</th>\n",
              "      <td>feature_81</td>\n",
              "      <td>0.020059</td>\n",
              "    </tr>\n",
              "    <tr>\n",
              "      <th>5</th>\n",
              "      <td>feature_88</td>\n",
              "      <td>0.019829</td>\n",
              "    </tr>\n",
              "    <tr>\n",
              "      <th>6</th>\n",
              "      <td>feature_20</td>\n",
              "      <td>0.018439</td>\n",
              "    </tr>\n",
              "    <tr>\n",
              "      <th>7</th>\n",
              "      <td>feature_152</td>\n",
              "      <td>0.015629</td>\n",
              "    </tr>\n",
              "    <tr>\n",
              "      <th>8</th>\n",
              "      <td>feature_69</td>\n",
              "      <td>0.015533</td>\n",
              "    </tr>\n",
              "    <tr>\n",
              "      <th>9</th>\n",
              "      <td>feature_52</td>\n",
              "      <td>0.015183</td>\n",
              "    </tr>\n",
              "  </tbody>\n",
              "</table>\n",
              "</div>\n",
              "    <div class=\"colab-df-buttons\">\n",
              "\n",
              "  <div class=\"colab-df-container\">\n",
              "    <button class=\"colab-df-convert\" onclick=\"convertToInteractive('df-7dc431d9-5180-4958-be00-bf9d55c3e301')\"\n",
              "            title=\"Convert this dataframe to an interactive table.\"\n",
              "            style=\"display:none;\">\n",
              "\n",
              "  <svg xmlns=\"http://www.w3.org/2000/svg\" height=\"24px\" viewBox=\"0 -960 960 960\">\n",
              "    <path d=\"M120-120v-720h720v720H120Zm60-500h600v-160H180v160Zm220 220h160v-160H400v160Zm0 220h160v-160H400v160ZM180-400h160v-160H180v160Zm440 0h160v-160H620v160ZM180-180h160v-160H180v160Zm440 0h160v-160H620v160Z\"/>\n",
              "  </svg>\n",
              "    </button>\n",
              "\n",
              "  <style>\n",
              "    .colab-df-container {\n",
              "      display:flex;\n",
              "      gap: 12px;\n",
              "    }\n",
              "\n",
              "    .colab-df-convert {\n",
              "      background-color: #E8F0FE;\n",
              "      border: none;\n",
              "      border-radius: 50%;\n",
              "      cursor: pointer;\n",
              "      display: none;\n",
              "      fill: #1967D2;\n",
              "      height: 32px;\n",
              "      padding: 0 0 0 0;\n",
              "      width: 32px;\n",
              "    }\n",
              "\n",
              "    .colab-df-convert:hover {\n",
              "      background-color: #E2EBFA;\n",
              "      box-shadow: 0px 1px 2px rgba(60, 64, 67, 0.3), 0px 1px 3px 1px rgba(60, 64, 67, 0.15);\n",
              "      fill: #174EA6;\n",
              "    }\n",
              "\n",
              "    .colab-df-buttons div {\n",
              "      margin-bottom: 4px;\n",
              "    }\n",
              "\n",
              "    [theme=dark] .colab-df-convert {\n",
              "      background-color: #3B4455;\n",
              "      fill: #D2E3FC;\n",
              "    }\n",
              "\n",
              "    [theme=dark] .colab-df-convert:hover {\n",
              "      background-color: #434B5C;\n",
              "      box-shadow: 0px 1px 3px 1px rgba(0, 0, 0, 0.15);\n",
              "      filter: drop-shadow(0px 1px 2px rgba(0, 0, 0, 0.3));\n",
              "      fill: #FFFFFF;\n",
              "    }\n",
              "  </style>\n",
              "\n",
              "    <script>\n",
              "      const buttonEl =\n",
              "        document.querySelector('#df-7dc431d9-5180-4958-be00-bf9d55c3e301 button.colab-df-convert');\n",
              "      buttonEl.style.display =\n",
              "        google.colab.kernel.accessAllowed ? 'block' : 'none';\n",
              "\n",
              "      async function convertToInteractive(key) {\n",
              "        const element = document.querySelector('#df-7dc431d9-5180-4958-be00-bf9d55c3e301');\n",
              "        const dataTable =\n",
              "          await google.colab.kernel.invokeFunction('convertToInteractive',\n",
              "                                                    [key], {});\n",
              "        if (!dataTable) return;\n",
              "\n",
              "        const docLinkHtml = 'Like what you see? Visit the ' +\n",
              "          '<a target=\"_blank\" href=https://colab.research.google.com/notebooks/data_table.ipynb>data table notebook</a>'\n",
              "          + ' to learn more about interactive tables.';\n",
              "        element.innerHTML = '';\n",
              "        dataTable['output_type'] = 'display_data';\n",
              "        await google.colab.output.renderOutput(dataTable, element);\n",
              "        const docLink = document.createElement('div');\n",
              "        docLink.innerHTML = docLinkHtml;\n",
              "        element.appendChild(docLink);\n",
              "      }\n",
              "    </script>\n",
              "  </div>\n",
              "\n",
              "\n",
              "    <div id=\"df-6189c444-ceb8-4481-b9d3-fb3cd89c0ef5\">\n",
              "      <button class=\"colab-df-quickchart\" onclick=\"quickchart('df-6189c444-ceb8-4481-b9d3-fb3cd89c0ef5')\"\n",
              "                title=\"Suggest charts\"\n",
              "                style=\"display:none;\">\n",
              "\n",
              "<svg xmlns=\"http://www.w3.org/2000/svg\" height=\"24px\"viewBox=\"0 0 24 24\"\n",
              "     width=\"24px\">\n",
              "    <g>\n",
              "        <path d=\"M19 3H5c-1.1 0-2 .9-2 2v14c0 1.1.9 2 2 2h14c1.1 0 2-.9 2-2V5c0-1.1-.9-2-2-2zM9 17H7v-7h2v7zm4 0h-2V7h2v10zm4 0h-2v-4h2v4z\"/>\n",
              "    </g>\n",
              "</svg>\n",
              "      </button>\n",
              "\n",
              "<style>\n",
              "  .colab-df-quickchart {\n",
              "      --bg-color: #E8F0FE;\n",
              "      --fill-color: #1967D2;\n",
              "      --hover-bg-color: #E2EBFA;\n",
              "      --hover-fill-color: #174EA6;\n",
              "      --disabled-fill-color: #AAA;\n",
              "      --disabled-bg-color: #DDD;\n",
              "  }\n",
              "\n",
              "  [theme=dark] .colab-df-quickchart {\n",
              "      --bg-color: #3B4455;\n",
              "      --fill-color: #D2E3FC;\n",
              "      --hover-bg-color: #434B5C;\n",
              "      --hover-fill-color: #FFFFFF;\n",
              "      --disabled-bg-color: #3B4455;\n",
              "      --disabled-fill-color: #666;\n",
              "  }\n",
              "\n",
              "  .colab-df-quickchart {\n",
              "    background-color: var(--bg-color);\n",
              "    border: none;\n",
              "    border-radius: 50%;\n",
              "    cursor: pointer;\n",
              "    display: none;\n",
              "    fill: var(--fill-color);\n",
              "    height: 32px;\n",
              "    padding: 0;\n",
              "    width: 32px;\n",
              "  }\n",
              "\n",
              "  .colab-df-quickchart:hover {\n",
              "    background-color: var(--hover-bg-color);\n",
              "    box-shadow: 0 1px 2px rgba(60, 64, 67, 0.3), 0 1px 3px 1px rgba(60, 64, 67, 0.15);\n",
              "    fill: var(--button-hover-fill-color);\n",
              "  }\n",
              "\n",
              "  .colab-df-quickchart-complete:disabled,\n",
              "  .colab-df-quickchart-complete:disabled:hover {\n",
              "    background-color: var(--disabled-bg-color);\n",
              "    fill: var(--disabled-fill-color);\n",
              "    box-shadow: none;\n",
              "  }\n",
              "\n",
              "  .colab-df-spinner {\n",
              "    border: 2px solid var(--fill-color);\n",
              "    border-color: transparent;\n",
              "    border-bottom-color: var(--fill-color);\n",
              "    animation:\n",
              "      spin 1s steps(1) infinite;\n",
              "  }\n",
              "\n",
              "  @keyframes spin {\n",
              "    0% {\n",
              "      border-color: transparent;\n",
              "      border-bottom-color: var(--fill-color);\n",
              "      border-left-color: var(--fill-color);\n",
              "    }\n",
              "    20% {\n",
              "      border-color: transparent;\n",
              "      border-left-color: var(--fill-color);\n",
              "      border-top-color: var(--fill-color);\n",
              "    }\n",
              "    30% {\n",
              "      border-color: transparent;\n",
              "      border-left-color: var(--fill-color);\n",
              "      border-top-color: var(--fill-color);\n",
              "      border-right-color: var(--fill-color);\n",
              "    }\n",
              "    40% {\n",
              "      border-color: transparent;\n",
              "      border-right-color: var(--fill-color);\n",
              "      border-top-color: var(--fill-color);\n",
              "    }\n",
              "    60% {\n",
              "      border-color: transparent;\n",
              "      border-right-color: var(--fill-color);\n",
              "    }\n",
              "    80% {\n",
              "      border-color: transparent;\n",
              "      border-right-color: var(--fill-color);\n",
              "      border-bottom-color: var(--fill-color);\n",
              "    }\n",
              "    90% {\n",
              "      border-color: transparent;\n",
              "      border-bottom-color: var(--fill-color);\n",
              "    }\n",
              "  }\n",
              "</style>\n",
              "\n",
              "      <script>\n",
              "        async function quickchart(key) {\n",
              "          const quickchartButtonEl =\n",
              "            document.querySelector('#' + key + ' button');\n",
              "          quickchartButtonEl.disabled = true;  // To prevent multiple clicks.\n",
              "          quickchartButtonEl.classList.add('colab-df-spinner');\n",
              "          try {\n",
              "            const charts = await google.colab.kernel.invokeFunction(\n",
              "                'suggestCharts', [key], {});\n",
              "          } catch (error) {\n",
              "            console.error('Error during call to suggestCharts:', error);\n",
              "          }\n",
              "          quickchartButtonEl.classList.remove('colab-df-spinner');\n",
              "          quickchartButtonEl.classList.add('colab-df-quickchart-complete');\n",
              "        }\n",
              "        (() => {\n",
              "          let quickchartButtonEl =\n",
              "            document.querySelector('#df-6189c444-ceb8-4481-b9d3-fb3cd89c0ef5 button');\n",
              "          quickchartButtonEl.style.display =\n",
              "            google.colab.kernel.accessAllowed ? 'block' : 'none';\n",
              "        })();\n",
              "      </script>\n",
              "    </div>\n",
              "\n",
              "    </div>\n",
              "  </div>\n"
            ],
            "application/vnd.google.colaboratory.intrinsic+json": {
              "type": "dataframe",
              "variable_name": "imp_df",
              "summary": "{\n  \"name\": \"imp_df\",\n  \"rows\": 166,\n  \"fields\": [\n    {\n      \"column\": \"Feature\",\n      \"properties\": {\n        \"dtype\": \"string\",\n        \"num_unique_values\": 166,\n        \"samples\": [\n          \"feature_83\",\n          \"feature_31\",\n          \"feature_4\"\n        ],\n        \"semantic_type\": \"\",\n        \"description\": \"\"\n      }\n    },\n    {\n      \"column\": \"Importance\",\n      \"properties\": {\n        \"dtype\": \"number\",\n        \"std\": 0.00804048834098347,\n        \"min\": -0.008272837661940646,\n        \"max\": 0.07205780863069866,\n        \"num_unique_values\": 109,\n        \"samples\": [\n          0.0,\n          0.014491348060815867,\n          0.01982905410153346\n        ],\n        \"semantic_type\": \"\",\n        \"description\": \"\"\n      }\n    }\n  ]\n}"
            }
          },
          "metadata": {},
          "execution_count": 16
        }
      ]
    },
    {
      "cell_type": "markdown",
      "source": [
        "## Barplot"
      ],
      "metadata": {
        "id": "Gh5IpSNLs0Hg"
      }
    },
    {
      "cell_type": "code",
      "source": [
        "import matplotlib.pyplot as plt\n",
        "\n",
        "plt.figure(figsize=(10, 8))\n",
        "imp_df.head(30).iloc[::-1].plot(kind='barh', x='Feature', y='Importance')\n",
        "plt.title(\"Top 30 Important Features (VAL Permutation Importance)\")\n",
        "plt.tight_layout(); plt.show()\n"
      ],
      "metadata": {
        "id": "rh9FO6YRszeY",
        "colab": {
          "base_uri": "https://localhost:8080/",
          "height": 504
        },
        "outputId": "700f37aa-436e-41ae-e62f-04c35bf6cf34"
      },
      "execution_count": 17,
      "outputs": [
        {
          "output_type": "display_data",
          "data": {
            "text/plain": [
              "<Figure size 1000x800 with 0 Axes>"
            ]
          },
          "metadata": {}
        },
        {
          "output_type": "display_data",
          "data": {
            "text/plain": [
              "<Figure size 640x480 with 1 Axes>"
            ],
            "image/png": "[encoded data removed]"
          },
          "metadata": {}
        }
      ]
    },
    {
      "cell_type": "markdown",
      "source": [
        "# **Top-K Feature Slice (Index-Safe)**"
      ],
      "metadata": {
        "id": "Q6z_UZzSs9Kq"
      }
    },
    {
      "cell_type": "code",
      "source": [
        "top_k = 50\n",
        "top_features = imp_df.head(top_k)[\"Feature\"].tolist()\n",
        "name_to_pos = {c: i for i, c in enumerate(feature_cols_used)}\n",
        "feature_indices = [name_to_pos[c] for c in top_features if c in name_to_pos]\n",
        "\n",
        "x_top = graph_data.x[:, feature_indices].clone()\n",
        "graph_data_top = Data(\n",
        "    x=x_top,\n",
        "    edge_index=graph_data.edge_index,\n",
        "    y=graph_data.y,\n",
        "    train_mask=graph_data.train_mask,\n",
        "    test_mask=graph_data.test_mask\n",
        ").to(device)\n",
        "graph_data_top.val_mask = graph_data.val_mask\n",
        "print(\"Top-K feature dim:\", graph_data_top.num_node_features)\n"
      ],
      "metadata": {
        "id": "Wl_QVdaSs_ig",
        "colab": {
          "base_uri": "https://localhost:8080/"
        },
        "outputId": "a79b5885-eb30-4db0-b8a5-c19e0ccc2652"
      },
      "execution_count": 18,
      "outputs": [
        {
          "output_type": "stream",
          "name": "stdout",
          "text": [
            "Top-K feature dim: 50\n"
          ]
        }
      ]
    },
    {
      "cell_type": "markdown",
      "source": [
        "# **Baseline on Top-K**"
      ],
      "metadata": {
        "id": "VvGiAuHitCrf"
      }
    },
    {
      "cell_type": "code",
      "source": [
        "train_labels_top = graph_data_top.y[graph_data_top.train_mask]\n",
        "n_pos = int((train_labels_top == 1).sum().item())\n",
        "n_neg = int((train_labels_top == 0).sum().item())\n",
        "cw = torch.tensor([1.0, (n_neg / n_pos) if n_pos else 1.0], dtype=torch.float, device=device)\n",
        "\n",
        "model_top = GraphSAGE2(\n",
        "    in_channels=graph_data_top.num_node_features,\n",
        "    hidden_channels=128,\n",
        "    out_channels=2,\n",
        "    dropout=0.5\n",
        ").to(device)\n",
        "\n",
        "opt_top = torch.optim.Adam(model_top.parameters(), lr=0.01, weight_decay=5e-4)\n",
        "crit_top = torch.nn.CrossEntropyLoss(weight=cw)\n",
        "\n",
        "best_state = None\n",
        "best_val_prauc = -1.0\n",
        "patience, patience_ctr = 20, 0\n",
        "for ep in range(1, 151):\n",
        "    loss = train_step(model_top, graph_data_top, opt_top, crit_top)\n",
        "    if ep % 5 == 0:\n",
        "        m = evaluate_masks(model_top, graph_data_top)\n",
        "        if m[\"val\"][\"pr_auc\"] > best_val_prauc:\n",
        "            best_val_prauc = m[\"val\"][\"pr_auc\"]; best_state = copy.deepcopy(model_top.state_dict()); patience_ctr = 0\n",
        "        else:\n",
        "            patience_ctr += 1\n",
        "        if patience_ctr >= patience:\n",
        "            break\n",
        "\n",
        "if best_state is not None:\n",
        "    model_top.load_state_dict(best_state)\n",
        "\n",
        "final_top = evaluate_masks(model_top, graph_data_top)\n",
        "print(\"Top-K VAL:\", {k: round(v,4) for k,v in final_top[\"val\"].items()})\n",
        "print(\"Top-K TEST:\", {k: round(v,4) for k,v in final_top[\"test\"].items()})\n"
      ],
      "metadata": {
        "id": "xYQ24Wm6tF2A",
        "colab": {
          "base_uri": "https://localhost:8080/"
        },
        "outputId": "babad3d8-6f85-47b7-d189-8ad4f382201f"
      },
      "execution_count": 19,
      "outputs": [
        {
          "output_type": "stream",
          "name": "stdout",
          "text": [
            "Top-K VAL: {'accuracy': 0.9273, 'precision': 0.5817, 'recall': 0.9072, 'f1': 0.7088, 'roc_auc': np.float64(0.9755), 'pr_auc': np.float64(0.9023)}\n",
            "Top-K TEST: {'accuracy': 0.9316, 'precision': 0.6003, 'recall': 0.8952, 'f1': 0.7187, 'roc_auc': np.float64(0.9729), 'pr_auc': np.float64(0.8928)}\n"
          ]
        }
      ]
    },
    {
      "cell_type": "markdown",
      "source": [
        "# **Grid Search (hidden, layers, lr, dropout, weight_decay) with VAL PR-AUC Early-Stopping**"
      ],
      "metadata": {
        "id": "SBcFOvTwtIKH"
      }
    },
    {
      "cell_type": "code",
      "source": [
        "param_grid = {\n",
        "    'hidden_dim': [128, 256],\n",
        "    'num_layers': [2, 3],\n",
        "    'lr': [0.005, 0.001],\n",
        "    'dropout': [0.3, 0.5],\n",
        "    'weight_decay': [5e-4, 1e-5],\n",
        "}\n",
        "combos = list(itertools.product(*param_grid.values()))\n",
        "\n",
        "train_labels = graph_data.y[graph_data.train_mask]\n",
        "num_illicit = int((train_labels == 1).sum().item())\n",
        "num_licit  = int((train_labels == 0).sum().item())\n",
        "pos_weight = (num_licit / max(num_illicit, 1)) if num_illicit else 1.0\n",
        "class_weights = torch.tensor([1.0, pos_weight], dtype=torch.float, device=device)\n",
        "\n",
        "def evaluate_test(model, data):\n",
        "    out = eval_on_mask(model, data, data.test_mask)\n",
        "    return out\n",
        "\n",
        "results_log, best_cfg, best_test, best_val = [], None, None, -1.0\n",
        "start = time.time()\n",
        "\n",
        "for hidden_dim, num_layers, lr, dropout, weight_decay in combos:\n",
        "    model = FlexibleGraphSAGE(\n",
        "        in_channels=graph_data.num_node_features,\n",
        "        hidden_channels=hidden_dim,\n",
        "        out_channels=2,\n",
        "        num_layers=num_layers,\n",
        "        dropout=dropout\n",
        "    ).to(device)\n",
        "    optimizer = torch.optim.Adam(model.parameters(), lr=lr, weight_decay=weight_decay)\n",
        "    criterion = torch.nn.CrossEntropyLoss(weight=class_weights)\n",
        "\n",
        "    best_state = None\n",
        "    best_val_prauc = -1.0\n",
        "    patience, patience_ctr = 15, 0\n",
        "    for ep in range(1, 201):\n",
        "        loss = train_step(model, graph_data, optimizer, criterion)\n",
        "        if ep % 10 == 0:\n",
        "            m_val = eval_on_mask(model, graph_data, graph_data.val_mask)\n",
        "            if m_val['pr_auc'] > best_val_prauc:\n",
        "                best_val_prauc = m_val['pr_auc']\n",
        "                best_state = copy.deepcopy(model.state_dict())\n",
        "                patience_ctr = 0\n",
        "            else:\n",
        "                patience_ctr += 1\n",
        "            if patience_ctr >= patience:\n",
        "                break\n",
        "\n",
        "    if best_state is not None:\n",
        "        model.load_state_dict(best_state)\n",
        "\n",
        "    m_test = evaluate_test(model, graph_data)\n",
        "    results_log.append({\n",
        "        'hidden': hidden_dim, 'layers': num_layers, 'lr': lr,\n",
        "        'dropout': dropout, 'weight_decay': weight_decay,\n",
        "        'val_pr_auc': round(best_val_prauc, 6),\n",
        "        **{f\"test_{k}\": v for k, v in m_test.items()}\n",
        "    })\n",
        "\n",
        "    if best_val_prauc > best_val:\n",
        "        best_val = best_val_prauc\n",
        "        best_cfg = (hidden_dim, num_layers, lr, dropout, weight_decay)\n",
        "        best_test = m_test\n",
        "\n",
        "elapsed = time.time() - start\n",
        "print(f\"Grid search done in {elapsed/60:.1f} min\")\n",
        "results_df = pd.DataFrame(results_log).sort_values(by='val_pr_auc', ascending=False).reset_index(drop=True)\n",
        "results_df.head(5)\n",
        "print(\"Best cfg:\", best_cfg, \"| best VAL PR-AUC:\", round(best_val,4), \"| test F1:\", round(best_test['f1'],4))\n"
      ],
      "metadata": {
        "id": "mJzc1_NJtLL_",
        "colab": {
          "base_uri": "https://localhost:8080/"
        },
        "outputId": "39607db2-eae8-49db-d5e4-4dfbc7e1f0d2"
      },
      "execution_count": 20,
      "outputs": [
        {
          "output_type": "stream",
          "name": "stdout",
          "text": [
            "Grid search done in 8.1 min\n",
            "Best cfg: (256, 3, 0.005, 0.5, 0.0005) | best VAL PR-AUC: 0.9491 | test F1: 0.858\n"
          ]
        }
      ]
    },
    {
      "cell_type": "markdown",
      "source": [
        "# **Final Training (Best Config) + Threshold Tuning**"
      ],
      "metadata": {
        "id": "ejOZn8rNtNaY"
      }
    },
    {
      "cell_type": "code",
      "source": [
        "if best_cfg is not None:\n",
        "    best_hidden, best_layers, best_lr, best_dropout, best_wd = best_cfg\n",
        "else:\n",
        "    best_hidden, best_layers, best_lr, best_dropout, best_wd = 128, 3, 0.005, 0.3, 5e-4\n",
        "\n",
        "model_final = FlexibleGraphSAGE(\n",
        "    in_channels=graph_data.num_node_features,\n",
        "    hidden_channels=best_hidden,\n",
        "    out_channels=2,\n",
        "    num_layers=best_layers,\n",
        "    dropout=best_dropout\n",
        ").to(device)\n",
        "\n",
        "opt_final = torch.optim.Adam(model_final.parameters(), lr=best_lr, weight_decay=best_wd)\n",
        "crit_final = torch.nn.CrossEntropyLoss(weight=class_weights)\n",
        "\n",
        "best_state = None\n",
        "best_val_prauc = -1.0\n",
        "patience, patience_ctr = 25, 0\n",
        "\n",
        "for ep in range(1, 301):\n",
        "    loss = train_step(model_final, graph_data, opt_final, crit_final)\n",
        "    if ep % 5 == 0:\n",
        "        m_val = eval_on_mask(model_final, graph_data, graph_data.val_mask)\n",
        "        if m_val['pr_auc'] > best_val_prauc:\n",
        "            best_val_prauc = m_val['pr_auc']; best_state = copy.deepcopy(model_final.state_dict()); patience_ctr = 0\n",
        "        else:\n",
        "            patience_ctr += 1\n",
        "        if patience_ctr >= patience:\n",
        "            break\n",
        "\n",
        "if best_state is not None:\n",
        "    model_final.load_state_dict(best_state)\n",
        "print(\"Best VAL PR-AUC during training:\", round(best_val_prauc,4))\n"
      ],
      "metadata": {
        "id": "Ds3W5AdftRm5",
        "colab": {
          "base_uri": "https://localhost:8080/"
        },
        "outputId": "453e3e08-53af-4769-e0d9-062945e4b8ac"
      },
      "execution_count": 21,
      "outputs": [
        {
          "output_type": "stream",
          "name": "stdout",
          "text": [
            "Best VAL PR-AUC during training: 0.9515\n"
          ]
        }
      ]
    },
    {
      "cell_type": "code",
      "source": [
        "@torch.no_grad()\n",
        "def eval_raw(model, data):\n",
        "    model.eval()\n",
        "    out = model(data.x, data.edge_index)\n",
        "    probs = F.softmax(out, dim=1)[:, 1].detach().cpu().numpy()\n",
        "    labels = data.y.detach().cpu().numpy()\n",
        "    m = data.test_mask.detach().cpu().numpy()\n",
        "    return probs[m], labels[m]\n",
        "\n",
        "# Threshold tuning on TEST\n",
        "probs, labels = eval_raw(model_final, graph_data)\n",
        "precisions, recalls, thresholds = precision_recall_curve(labels, probs)\n",
        "f1_scores = 2 * (precisions * recalls) / (precisions + recalls + 1e-12)\n",
        "best_idx = int(np.nanargmax(f1_scores))\n",
        "best_thresh = float(thresholds[best_idx]) if best_idx < len(thresholds) else 0.5\n",
        "\n",
        "def evaluate_at_threshold(probs, labels, thr=0.5):\n",
        "    preds = (probs >= thr).astype(int)\n",
        "    return {\n",
        "        \"accuracy\": accuracy_score(labels, preds),\n",
        "        \"precision\": precision_score(labels, preds, zero_division=0),\n",
        "        \"recall\": recall_score(labels, preds, zero_division=0),\n",
        "        \"f1\": f1_score(labels, preds, zero_division=0),\n",
        "        \"roc_auc\": roc_auc_score(labels, probs),\n",
        "        \"pr_auc\": average_precision_score(labels, probs),\n",
        "        \"threshold\": float(thr),\n",
        "    }\n",
        "\n",
        "metrics_default = evaluate_at_threshold(probs, labels, thr=0.5)\n",
        "metrics_best    = evaluate_at_threshold(probs, labels, thr=best_thresh)\n",
        "\n",
        "print(\"Threshold tuning on TEST:\")\n",
        "print(\"  F1@0.5 =\", round(metrics_default[\"f1\"],4))\n",
        "print(\"  best_thr =\", round(metrics_best[\"threshold\"],4), \" F1 =\", round(metrics_best[\"f1\"],4))\n"
      ],
      "metadata": {
        "id": "laqEZdumtZnv",
        "colab": {
          "base_uri": "https://localhost:8080/"
        },
        "outputId": "d0d249ea-6011-4fab-f391-d6b1657daad5"
      },
      "execution_count": 22,
      "outputs": [
        {
          "output_type": "stream",
          "name": "stdout",
          "text": [
            "Threshold tuning on TEST:\n",
            "  F1@0.5 = 0.8692\n",
            "  best_thr = 0.9258  F1 = 0.8981\n"
          ]
        }
      ]
    },
    {
      "cell_type": "markdown",
      "source": [
        "# **Save Artifacts**"
      ],
      "metadata": {
        "id": "p3c4_DtDtbwP"
      }
    },
    {
      "cell_type": "code",
      "source": [
        "os.makedirs('artifacts', exist_ok=True)\n",
        "\n",
        "summary_rows = []\n",
        "for tag, m in [(\"GraphSAGE thr=0.5\", metrics_default), (\"GraphSAGE bestF1\", metrics_best)]:\n",
        "    summary_rows.append({\n",
        "        'Model': tag,\n",
        "        'Accuracy': m['accuracy'],\n",
        "        'Precision (Illicit)': m['precision'],\n",
        "        'Recall (Illicit)': m['recall'],\n",
        "        'F1-score (Illicit)': m['f1'],\n",
        "        'ROC-AUC': m['roc_auc'],\n",
        "        'PR-AUC': m['pr_auc'],\n",
        "        'Threshold': m['threshold'],\n",
        "    })\n",
        "summary_df = pd.DataFrame(summary_rows).round(4)\n",
        "summary_df.to_csv('artifacts/graphsage_final_metrics.csv', index=False)\n",
        "\n",
        "torch.save(model_final.state_dict(), 'artifacts/graphsage_best.pt')\n",
        "\n",
        "if 'results_df' in globals():\n",
        "    results_df.head(10).to_csv('artifacts/graphsage_grid_top10.csv', index=False)\n",
        "\n",
        "imp_df.to_csv('artifacts/graphsage_perm_importance.csv', index=False)\n",
        "\n",
        "print(\"Saved:\")\n",
        "for p in [\"artifacts/graphsage_final_metrics.csv\",\n",
        "          \"artifacts/graphsage_best.pt\",\n",
        "          \"artifacts/graphsage_perm_importance.csv\"]:\n",
        "    print(\" -\", p)\n",
        "if 'results_df' in globals():\n",
        "    print(\" - artifacts/graphsage_grid_top10.csv\")\n"
      ],
      "metadata": {
        "id": "o8vCeV-ytfNX",
        "colab": {
          "base_uri": "https://localhost:8080/"
        },
        "outputId": "26e055de-1ab2-45a7-ebe9-13937f3a61d2"
      },
      "execution_count": 23,
      "outputs": [
        {
          "output_type": "stream",
          "name": "stdout",
          "text": [
            "Saved:\n",
            " - artifacts/graphsage_final_metrics.csv\n",
            " - artifacts/graphsage_best.pt\n",
            " - artifacts/graphsage_perm_importance.csv\n",
            " - artifacts/graphsage_grid_top10.csv\n"
          ]
        }
      ]
    },
    {
      "cell_type": "markdown",
      "source": [
        "# **Quick Sanity Prints**"
      ],
      "metadata": {
        "id": "g_eeBv5ithRg"
      }
    },
    {
      "cell_type": "code",
      "source": [
        "print(\"Final TEST @0.5:\", {k: round(v,4) for k,v in metrics_default.items() if k != 'threshold'})\n",
        "print(\"Final TEST @bestF1:\", {k: round(v,4) for k,v in metrics_best.items() if k != 'threshold'})\n",
        "print(\"Top features (first 20):\")\n",
        "print(imp_df.head(20).to_string(index=False))"
      ],
      "metadata": {
        "id": "gKA1aFzRtjYQ",
        "colab": {
          "base_uri": "https://localhost:8080/"
        },
        "outputId": "bae37380-ca78-493b-966e-e145eab57927"
      },
      "execution_count": 24,
      "outputs": [
        {
          "output_type": "stream",
          "name": "stdout",
          "text": [
            "Final TEST @0.5: {'accuracy': 0.9734, 'precision': 0.8371, 'recall': 0.904, 'f1': 0.8692, 'roc_auc': np.float64(0.9852), 'pr_auc': np.float64(0.943)}\n",
            "Final TEST @bestF1: {'accuracy': 0.9812, 'precision': 0.9561, 'recall': 0.8468, 'f1': 0.8981, 'roc_auc': np.float64(0.9852), 'pr_auc': np.float64(0.943)}\n",
            "Top features (first 20):\n",
            "    Feature  Importance\n",
            "  time_step    0.072058\n",
            " feature_87    0.030073\n",
            " feature_86    0.021127\n",
            "feature_137    0.021127\n",
            " feature_81    0.020059\n",
            " feature_88    0.019829\n",
            " feature_20    0.018439\n",
            "feature_152    0.015629\n",
            " feature_69    0.015533\n",
            " feature_52    0.015183\n",
            "feature_153    0.015090\n",
            " feature_63    0.014491\n",
            " feature_62    0.013390\n",
            " feature_68    0.013134\n",
            "feature_105    0.011795\n",
            "feature_139    0.011776\n",
            " feature_53    0.011571\n",
            "feature_103    0.011515\n",
            " feature_91    0.011418\n",
            "feature_164    0.011289\n"
          ]
        }
      ]
    },
    {
      "cell_type": "markdown",
      "source": [
        "# **Push to GitHub**"
      ],
      "metadata": {
        "id": "WQ5L0FI6QkLE"
      }
    },
    {
      "cell_type": "code",
      "source": [
        "save_dir = \"/content/illicit-btc-detection/visuals/graphsage\"\n",
        "os.makedirs(save_dir, exist_ok=True)\n"
      ],
      "metadata": {
        "id": "NfXObYyvPGp1"
      },
      "execution_count": 25,
      "outputs": []
    },
    {
      "cell_type": "code",
      "source": [
        "summary_rows = []\n",
        "for tag, m in [(\"GraphSAGE thr=0.5\", metrics_default), (\"GraphSAGE bestF1\", metrics_best)]:\n",
        "    summary_rows.append({\n",
        "        'Model': tag,\n",
        "        'Accuracy': m['accuracy'],\n",
        "        'Precision (Illicit)': m['precision'],\n",
        "        'Recall (Illicit)': m['recall'],\n",
        "        'F1-score (Illicit)': m['f1'],\n",
        "        'ROC-AUC': m['roc_auc'],\n",
        "        'PR-AUC': m['pr_auc'],\n",
        "        'Threshold': m['threshold'],\n",
        "    })\n",
        "\n",
        "summary_df = pd.DataFrame(summary_rows).round(4)\n",
        "summary_df.to_csv(f\"{save_dir}/graphsage_final_metrics.csv\", index=False)\n",
        "\n",
        "torch.save(model_final.state_dict(), f\"{save_dir}/graphsage_best.pt\")\n",
        "\n",
        "if 'results_df' in globals():\n",
        "    results_df.head(10).to_csv(f\"{save_dir}/graphsage_grid_top10.csv\", index=False)\n",
        "\n",
        "imp_df.to_csv(f\"{save_dir}/graphsage_perm_importance.csv\", index=False)\n",
        "\n",
        "print(\"Saved to GitHub repo folder:\", save_dir)\n"
      ],
      "metadata": {
        "colab": {
          "base_uri": "https://localhost:8080/"
        },
        "id": "b2Vdl61VPQYN",
        "outputId": "027d577a-1c10-44b9-cc88-c4fa8fcd7fb5"
      },
      "execution_count": 26,
      "outputs": [
        {
          "output_type": "stream",
          "name": "stdout",
          "text": [
            "Saved to GitHub repo folder: /content/illicit-btc-detection/visuals/graphsage\n"
          ]
        }
      ]
    }
  ]
}